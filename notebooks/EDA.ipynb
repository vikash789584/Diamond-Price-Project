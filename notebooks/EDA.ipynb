{
 "cells": [
  {
   "attachments": {},
   "cell_type": "markdown",
   "metadata": {},
   "source": [
    "## Diamond Price Prediction"
   ]
  },
  {
   "attachments": {},
   "cell_type": "markdown",
   "metadata": {},
   "source": [
    "### Introduction About the Data :\n",
    "\n",
    "**The dataset** The goal is to predict `Time_taken (min)` of given diamond (Regression Analysis).\n",
    "\n",
    "There are 20 independent variables (including `id`):\n",
    "\n",
    "* `id` : unique identifier of each diamond\n",
    "* `Delivery_person_ID ` : unique identifier of each Delivery person.\n",
    "* `Delivery_person_Age` : Age of every Delivery person.\n",
    "* `Delivery_person_Ratings`: Rating about Delivery person.\n",
    "* `Restaurant_latitude`:  \n",
    "* `Restaurant_longitude`:       \n",
    "* `Delivery_location_latitude`: \n",
    "* `Delivery_location_longitude`:\n",
    "* `Order_Date`: About Order Date.                \n",
    "* `Time_Orderd`: what time order booked.              \n",
    "* `Time_Order_picked`: what time order Received.       \n",
    "* `Weather_conditions`: how's the weather.      \n",
    "* `Road_traffic_density`: how was the traffic.      \n",
    "* `Vehicle_condition`: how was the vehicle.         \n",
    "* `Type_of_order`: what type of order.             \n",
    "* `Type_of_vehicle`: what type of vehicle.           \n",
    "* `multiple_deliveries`: show how many multiple deliveries.      \n",
    "* `Festival`: show was there a festival or not.              \n",
    "* `City`: show Order delivery in which city.             \n",
    "\n",
    "Target variable:\n",
    "* `Time_taken (min)`: Price of the given Diamond.\n",
    "\n",
    "Dataset Source Link :\n",
    "[https://drive.google.com/file/d/1tr1ozeDCuE9AvoL0D7l00hjfl-k83Yab/view?usp=share_link](https://drive.google.com/file/d/1tr1ozeDCuE9AvoL0D7l00hjfl-k83Yab/view?usp=share_link)"
   ]
  },
  {
   "cell_type": "code",
   "execution_count": 796,
   "metadata": {},
   "outputs": [],
   "source": [
    "import pandas as pd"
   ]
  },
  {
   "cell_type": "code",
   "execution_count": 797,
   "metadata": {},
   "outputs": [
    {
     "data": {
      "text/html": [
       "<div>\n",
       "<style scoped>\n",
       "    .dataframe tbody tr th:only-of-type {\n",
       "        vertical-align: middle;\n",
       "    }\n",
       "\n",
       "    .dataframe tbody tr th {\n",
       "        vertical-align: top;\n",
       "    }\n",
       "\n",
       "    .dataframe thead th {\n",
       "        text-align: right;\n",
       "    }\n",
       "</style>\n",
       "<table border=\"1\" class=\"dataframe\">\n",
       "  <thead>\n",
       "    <tr style=\"text-align: right;\">\n",
       "      <th></th>\n",
       "      <th>ID</th>\n",
       "      <th>Delivery_person_ID</th>\n",
       "      <th>Delivery_person_Age</th>\n",
       "      <th>Delivery_person_Ratings</th>\n",
       "      <th>Restaurant_latitude</th>\n",
       "      <th>Restaurant_longitude</th>\n",
       "      <th>Delivery_location_latitude</th>\n",
       "      <th>Delivery_location_longitude</th>\n",
       "      <th>Order_Date</th>\n",
       "      <th>Time_Orderd</th>\n",
       "      <th>Time_Order_picked</th>\n",
       "      <th>Weather_conditions</th>\n",
       "      <th>Road_traffic_density</th>\n",
       "      <th>Vehicle_condition</th>\n",
       "      <th>Type_of_order</th>\n",
       "      <th>Type_of_vehicle</th>\n",
       "      <th>multiple_deliveries</th>\n",
       "      <th>Festival</th>\n",
       "      <th>City</th>\n",
       "      <th>Time_taken (min)</th>\n",
       "    </tr>\n",
       "  </thead>\n",
       "  <tbody>\n",
       "    <tr>\n",
       "      <th>0</th>\n",
       "      <td>0xcdcd</td>\n",
       "      <td>DEHRES17DEL01</td>\n",
       "      <td>36.0</td>\n",
       "      <td>4.2</td>\n",
       "      <td>30.327968</td>\n",
       "      <td>78.046106</td>\n",
       "      <td>30.397968</td>\n",
       "      <td>78.116106</td>\n",
       "      <td>12-02-2022</td>\n",
       "      <td>21:55</td>\n",
       "      <td>22:10</td>\n",
       "      <td>Fog</td>\n",
       "      <td>Jam</td>\n",
       "      <td>2</td>\n",
       "      <td>Snack</td>\n",
       "      <td>motorcycle</td>\n",
       "      <td>3.0</td>\n",
       "      <td>No</td>\n",
       "      <td>Metropolitian</td>\n",
       "      <td>46</td>\n",
       "    </tr>\n",
       "    <tr>\n",
       "      <th>1</th>\n",
       "      <td>0xd987</td>\n",
       "      <td>KOCRES16DEL01</td>\n",
       "      <td>21.0</td>\n",
       "      <td>4.7</td>\n",
       "      <td>10.003064</td>\n",
       "      <td>76.307589</td>\n",
       "      <td>10.043064</td>\n",
       "      <td>76.347589</td>\n",
       "      <td>13-02-2022</td>\n",
       "      <td>14:55</td>\n",
       "      <td>15:05</td>\n",
       "      <td>Stormy</td>\n",
       "      <td>High</td>\n",
       "      <td>1</td>\n",
       "      <td>Meal</td>\n",
       "      <td>motorcycle</td>\n",
       "      <td>1.0</td>\n",
       "      <td>No</td>\n",
       "      <td>Metropolitian</td>\n",
       "      <td>23</td>\n",
       "    </tr>\n",
       "    <tr>\n",
       "      <th>2</th>\n",
       "      <td>0x2784</td>\n",
       "      <td>PUNERES13DEL03</td>\n",
       "      <td>23.0</td>\n",
       "      <td>4.7</td>\n",
       "      <td>18.562450</td>\n",
       "      <td>73.916619</td>\n",
       "      <td>18.652450</td>\n",
       "      <td>74.006619</td>\n",
       "      <td>04-03-2022</td>\n",
       "      <td>17:30</td>\n",
       "      <td>17:40</td>\n",
       "      <td>Sandstorms</td>\n",
       "      <td>Medium</td>\n",
       "      <td>1</td>\n",
       "      <td>Drinks</td>\n",
       "      <td>scooter</td>\n",
       "      <td>1.0</td>\n",
       "      <td>No</td>\n",
       "      <td>Metropolitian</td>\n",
       "      <td>21</td>\n",
       "    </tr>\n",
       "    <tr>\n",
       "      <th>3</th>\n",
       "      <td>0xc8b6</td>\n",
       "      <td>LUDHRES15DEL02</td>\n",
       "      <td>34.0</td>\n",
       "      <td>4.3</td>\n",
       "      <td>30.899584</td>\n",
       "      <td>75.809346</td>\n",
       "      <td>30.919584</td>\n",
       "      <td>75.829346</td>\n",
       "      <td>13-02-2022</td>\n",
       "      <td>09:20</td>\n",
       "      <td>09:30</td>\n",
       "      <td>Sandstorms</td>\n",
       "      <td>Low</td>\n",
       "      <td>0</td>\n",
       "      <td>Buffet</td>\n",
       "      <td>motorcycle</td>\n",
       "      <td>0.0</td>\n",
       "      <td>No</td>\n",
       "      <td>Metropolitian</td>\n",
       "      <td>20</td>\n",
       "    </tr>\n",
       "    <tr>\n",
       "      <th>4</th>\n",
       "      <td>0xdb64</td>\n",
       "      <td>KNPRES14DEL02</td>\n",
       "      <td>24.0</td>\n",
       "      <td>4.7</td>\n",
       "      <td>26.463504</td>\n",
       "      <td>80.372929</td>\n",
       "      <td>26.593504</td>\n",
       "      <td>80.502929</td>\n",
       "      <td>14-02-2022</td>\n",
       "      <td>19:50</td>\n",
       "      <td>20:05</td>\n",
       "      <td>Fog</td>\n",
       "      <td>Jam</td>\n",
       "      <td>1</td>\n",
       "      <td>Snack</td>\n",
       "      <td>scooter</td>\n",
       "      <td>1.0</td>\n",
       "      <td>No</td>\n",
       "      <td>Metropolitian</td>\n",
       "      <td>41</td>\n",
       "    </tr>\n",
       "  </tbody>\n",
       "</table>\n",
       "</div>"
      ],
      "text/plain": [
       "       ID Delivery_person_ID  Delivery_person_Age  Delivery_person_Ratings   \n",
       "0  0xcdcd      DEHRES17DEL01                 36.0                      4.2  \\\n",
       "1  0xd987      KOCRES16DEL01                 21.0                      4.7   \n",
       "2  0x2784     PUNERES13DEL03                 23.0                      4.7   \n",
       "3  0xc8b6     LUDHRES15DEL02                 34.0                      4.3   \n",
       "4  0xdb64      KNPRES14DEL02                 24.0                      4.7   \n",
       "\n",
       "   Restaurant_latitude  Restaurant_longitude  Delivery_location_latitude   \n",
       "0            30.327968             78.046106                   30.397968  \\\n",
       "1            10.003064             76.307589                   10.043064   \n",
       "2            18.562450             73.916619                   18.652450   \n",
       "3            30.899584             75.809346                   30.919584   \n",
       "4            26.463504             80.372929                   26.593504   \n",
       "\n",
       "   Delivery_location_longitude  Order_Date Time_Orderd Time_Order_picked   \n",
       "0                    78.116106  12-02-2022       21:55             22:10  \\\n",
       "1                    76.347589  13-02-2022       14:55             15:05   \n",
       "2                    74.006619  04-03-2022       17:30             17:40   \n",
       "3                    75.829346  13-02-2022       09:20             09:30   \n",
       "4                    80.502929  14-02-2022       19:50             20:05   \n",
       "\n",
       "  Weather_conditions Road_traffic_density  Vehicle_condition Type_of_order   \n",
       "0                Fog                  Jam                  2         Snack  \\\n",
       "1             Stormy                 High                  1          Meal   \n",
       "2         Sandstorms               Medium                  1        Drinks   \n",
       "3         Sandstorms                  Low                  0        Buffet   \n",
       "4                Fog                  Jam                  1         Snack   \n",
       "\n",
       "  Type_of_vehicle  multiple_deliveries Festival           City   \n",
       "0      motorcycle                  3.0       No  Metropolitian  \\\n",
       "1      motorcycle                  1.0       No  Metropolitian   \n",
       "2         scooter                  1.0       No  Metropolitian   \n",
       "3      motorcycle                  0.0       No  Metropolitian   \n",
       "4         scooter                  1.0       No  Metropolitian   \n",
       "\n",
       "   Time_taken (min)  \n",
       "0                46  \n",
       "1                23  \n",
       "2                21  \n",
       "3                20  \n",
       "4                41  "
      ]
     },
     "execution_count": 797,
     "metadata": {},
     "output_type": "execute_result"
    }
   ],
   "source": [
    "## Data Ingestions step\n",
    "df=pd.read_csv('data/finalTrain.csv')\n",
    "df.head()"
   ]
  },
  {
   "cell_type": "code",
   "execution_count": 798,
   "metadata": {},
   "outputs": [
    {
     "data": {
      "text/plain": [
       "ID                                0\n",
       "Delivery_person_ID                0\n",
       "Delivery_person_Age            1854\n",
       "Delivery_person_Ratings        1908\n",
       "Restaurant_latitude               0\n",
       "Restaurant_longitude              0\n",
       "Delivery_location_latitude        0\n",
       "Delivery_location_longitude       0\n",
       "Order_Date                        0\n",
       "Time_Orderd                    1731\n",
       "Time_Order_picked                 0\n",
       "Weather_conditions              616\n",
       "Road_traffic_density            601\n",
       "Vehicle_condition                 0\n",
       "Type_of_order                     0\n",
       "Type_of_vehicle                   0\n",
       "multiple_deliveries             993\n",
       "Festival                        228\n",
       "City                           1200\n",
       "Time_taken (min)                  0\n",
       "dtype: int64"
      ]
     },
     "execution_count": 798,
     "metadata": {},
     "output_type": "execute_result"
    }
   ],
   "source": [
    "df.isnull().sum()"
   ]
  },
  {
   "cell_type": "code",
   "execution_count": 799,
   "metadata": {},
   "outputs": [],
   "source": [
    "### No missing values present in the data"
   ]
  },
  {
   "cell_type": "code",
   "execution_count": 800,
   "metadata": {},
   "outputs": [
    {
     "name": "stdout",
     "output_type": "stream",
     "text": [
      "<class 'pandas.core.frame.DataFrame'>\n",
      "RangeIndex: 45584 entries, 0 to 45583\n",
      "Data columns (total 20 columns):\n",
      " #   Column                       Non-Null Count  Dtype  \n",
      "---  ------                       --------------  -----  \n",
      " 0   ID                           45584 non-null  object \n",
      " 1   Delivery_person_ID           45584 non-null  object \n",
      " 2   Delivery_person_Age          43730 non-null  float64\n",
      " 3   Delivery_person_Ratings      43676 non-null  float64\n",
      " 4   Restaurant_latitude          45584 non-null  float64\n",
      " 5   Restaurant_longitude         45584 non-null  float64\n",
      " 6   Delivery_location_latitude   45584 non-null  float64\n",
      " 7   Delivery_location_longitude  45584 non-null  float64\n",
      " 8   Order_Date                   45584 non-null  object \n",
      " 9   Time_Orderd                  43853 non-null  object \n",
      " 10  Time_Order_picked            45584 non-null  object \n",
      " 11  Weather_conditions           44968 non-null  object \n",
      " 12  Road_traffic_density         44983 non-null  object \n",
      " 13  Vehicle_condition            45584 non-null  int64  \n",
      " 14  Type_of_order                45584 non-null  object \n",
      " 15  Type_of_vehicle              45584 non-null  object \n",
      " 16  multiple_deliveries          44591 non-null  float64\n",
      " 17  Festival                     45356 non-null  object \n",
      " 18  City                         44384 non-null  object \n",
      " 19  Time_taken (min)             45584 non-null  int64  \n",
      "dtypes: float64(7), int64(2), object(11)\n",
      "memory usage: 7.0+ MB\n"
     ]
    }
   ],
   "source": [
    "df.info()"
   ]
  },
  {
   "cell_type": "code",
   "execution_count": 801,
   "metadata": {},
   "outputs": [
    {
     "data": {
      "text/html": [
       "<div>\n",
       "<style scoped>\n",
       "    .dataframe tbody tr th:only-of-type {\n",
       "        vertical-align: middle;\n",
       "    }\n",
       "\n",
       "    .dataframe tbody tr th {\n",
       "        vertical-align: top;\n",
       "    }\n",
       "\n",
       "    .dataframe thead th {\n",
       "        text-align: right;\n",
       "    }\n",
       "</style>\n",
       "<table border=\"1\" class=\"dataframe\">\n",
       "  <thead>\n",
       "    <tr style=\"text-align: right;\">\n",
       "      <th></th>\n",
       "      <th>ID</th>\n",
       "      <th>Delivery_person_ID</th>\n",
       "      <th>Delivery_person_Age</th>\n",
       "      <th>Delivery_person_Ratings</th>\n",
       "      <th>Restaurant_latitude</th>\n",
       "      <th>Restaurant_longitude</th>\n",
       "      <th>Delivery_location_latitude</th>\n",
       "      <th>Delivery_location_longitude</th>\n",
       "      <th>Order_Date</th>\n",
       "      <th>Time_Orderd</th>\n",
       "      <th>Time_Order_picked</th>\n",
       "      <th>Weather_conditions</th>\n",
       "      <th>Road_traffic_density</th>\n",
       "      <th>Vehicle_condition</th>\n",
       "      <th>Type_of_order</th>\n",
       "      <th>Type_of_vehicle</th>\n",
       "      <th>multiple_deliveries</th>\n",
       "      <th>Festival</th>\n",
       "      <th>City</th>\n",
       "      <th>Time_taken (min)</th>\n",
       "    </tr>\n",
       "  </thead>\n",
       "  <tbody>\n",
       "    <tr>\n",
       "      <th>0</th>\n",
       "      <td>0xcdcd</td>\n",
       "      <td>DEHRES17DEL01</td>\n",
       "      <td>36.0</td>\n",
       "      <td>4.2</td>\n",
       "      <td>30.327968</td>\n",
       "      <td>78.046106</td>\n",
       "      <td>30.397968</td>\n",
       "      <td>78.116106</td>\n",
       "      <td>12-02-2022</td>\n",
       "      <td>21:55</td>\n",
       "      <td>22:10</td>\n",
       "      <td>Fog</td>\n",
       "      <td>Jam</td>\n",
       "      <td>2</td>\n",
       "      <td>Snack</td>\n",
       "      <td>motorcycle</td>\n",
       "      <td>3.0</td>\n",
       "      <td>No</td>\n",
       "      <td>Metropolitian</td>\n",
       "      <td>46</td>\n",
       "    </tr>\n",
       "    <tr>\n",
       "      <th>1</th>\n",
       "      <td>0xd987</td>\n",
       "      <td>KOCRES16DEL01</td>\n",
       "      <td>21.0</td>\n",
       "      <td>4.7</td>\n",
       "      <td>10.003064</td>\n",
       "      <td>76.307589</td>\n",
       "      <td>10.043064</td>\n",
       "      <td>76.347589</td>\n",
       "      <td>13-02-2022</td>\n",
       "      <td>14:55</td>\n",
       "      <td>15:05</td>\n",
       "      <td>Stormy</td>\n",
       "      <td>High</td>\n",
       "      <td>1</td>\n",
       "      <td>Meal</td>\n",
       "      <td>motorcycle</td>\n",
       "      <td>1.0</td>\n",
       "      <td>No</td>\n",
       "      <td>Metropolitian</td>\n",
       "      <td>23</td>\n",
       "    </tr>\n",
       "    <tr>\n",
       "      <th>2</th>\n",
       "      <td>0x2784</td>\n",
       "      <td>PUNERES13DEL03</td>\n",
       "      <td>23.0</td>\n",
       "      <td>4.7</td>\n",
       "      <td>18.562450</td>\n",
       "      <td>73.916619</td>\n",
       "      <td>18.652450</td>\n",
       "      <td>74.006619</td>\n",
       "      <td>04-03-2022</td>\n",
       "      <td>17:30</td>\n",
       "      <td>17:40</td>\n",
       "      <td>Sandstorms</td>\n",
       "      <td>Medium</td>\n",
       "      <td>1</td>\n",
       "      <td>Drinks</td>\n",
       "      <td>scooter</td>\n",
       "      <td>1.0</td>\n",
       "      <td>No</td>\n",
       "      <td>Metropolitian</td>\n",
       "      <td>21</td>\n",
       "    </tr>\n",
       "    <tr>\n",
       "      <th>3</th>\n",
       "      <td>0xc8b6</td>\n",
       "      <td>LUDHRES15DEL02</td>\n",
       "      <td>34.0</td>\n",
       "      <td>4.3</td>\n",
       "      <td>30.899584</td>\n",
       "      <td>75.809346</td>\n",
       "      <td>30.919584</td>\n",
       "      <td>75.829346</td>\n",
       "      <td>13-02-2022</td>\n",
       "      <td>09:20</td>\n",
       "      <td>09:30</td>\n",
       "      <td>Sandstorms</td>\n",
       "      <td>Low</td>\n",
       "      <td>0</td>\n",
       "      <td>Buffet</td>\n",
       "      <td>motorcycle</td>\n",
       "      <td>0.0</td>\n",
       "      <td>No</td>\n",
       "      <td>Metropolitian</td>\n",
       "      <td>20</td>\n",
       "    </tr>\n",
       "    <tr>\n",
       "      <th>4</th>\n",
       "      <td>0xdb64</td>\n",
       "      <td>KNPRES14DEL02</td>\n",
       "      <td>24.0</td>\n",
       "      <td>4.7</td>\n",
       "      <td>26.463504</td>\n",
       "      <td>80.372929</td>\n",
       "      <td>26.593504</td>\n",
       "      <td>80.502929</td>\n",
       "      <td>14-02-2022</td>\n",
       "      <td>19:50</td>\n",
       "      <td>20:05</td>\n",
       "      <td>Fog</td>\n",
       "      <td>Jam</td>\n",
       "      <td>1</td>\n",
       "      <td>Snack</td>\n",
       "      <td>scooter</td>\n",
       "      <td>1.0</td>\n",
       "      <td>No</td>\n",
       "      <td>Metropolitian</td>\n",
       "      <td>41</td>\n",
       "    </tr>\n",
       "  </tbody>\n",
       "</table>\n",
       "</div>"
      ],
      "text/plain": [
       "       ID Delivery_person_ID  Delivery_person_Age  Delivery_person_Ratings   \n",
       "0  0xcdcd      DEHRES17DEL01                 36.0                      4.2  \\\n",
       "1  0xd987      KOCRES16DEL01                 21.0                      4.7   \n",
       "2  0x2784     PUNERES13DEL03                 23.0                      4.7   \n",
       "3  0xc8b6     LUDHRES15DEL02                 34.0                      4.3   \n",
       "4  0xdb64      KNPRES14DEL02                 24.0                      4.7   \n",
       "\n",
       "   Restaurant_latitude  Restaurant_longitude  Delivery_location_latitude   \n",
       "0            30.327968             78.046106                   30.397968  \\\n",
       "1            10.003064             76.307589                   10.043064   \n",
       "2            18.562450             73.916619                   18.652450   \n",
       "3            30.899584             75.809346                   30.919584   \n",
       "4            26.463504             80.372929                   26.593504   \n",
       "\n",
       "   Delivery_location_longitude  Order_Date Time_Orderd Time_Order_picked   \n",
       "0                    78.116106  12-02-2022       21:55             22:10  \\\n",
       "1                    76.347589  13-02-2022       14:55             15:05   \n",
       "2                    74.006619  04-03-2022       17:30             17:40   \n",
       "3                    75.829346  13-02-2022       09:20             09:30   \n",
       "4                    80.502929  14-02-2022       19:50             20:05   \n",
       "\n",
       "  Weather_conditions Road_traffic_density  Vehicle_condition Type_of_order   \n",
       "0                Fog                  Jam                  2         Snack  \\\n",
       "1             Stormy                 High                  1          Meal   \n",
       "2         Sandstorms               Medium                  1        Drinks   \n",
       "3         Sandstorms                  Low                  0        Buffet   \n",
       "4                Fog                  Jam                  1         Snack   \n",
       "\n",
       "  Type_of_vehicle  multiple_deliveries Festival           City   \n",
       "0      motorcycle                  3.0       No  Metropolitian  \\\n",
       "1      motorcycle                  1.0       No  Metropolitian   \n",
       "2         scooter                  1.0       No  Metropolitian   \n",
       "3      motorcycle                  0.0       No  Metropolitian   \n",
       "4         scooter                  1.0       No  Metropolitian   \n",
       "\n",
       "   Time_taken (min)  \n",
       "0                46  \n",
       "1                23  \n",
       "2                21  \n",
       "3                20  \n",
       "4                41  "
      ]
     },
     "execution_count": 801,
     "metadata": {},
     "output_type": "execute_result"
    }
   ],
   "source": [
    "df.head()"
   ]
  },
  {
   "cell_type": "code",
   "execution_count": 802,
   "metadata": {},
   "outputs": [],
   "source": [
    "## Lets drop the id column\n",
    "df=df.drop(labels=['ID','Delivery_person_ID'],axis=1)\n",
    "##df.head()"
   ]
  },
  {
   "cell_type": "code",
   "execution_count": 803,
   "metadata": {},
   "outputs": [
    {
     "data": {
      "text/plain": [
       "0"
      ]
     },
     "execution_count": 803,
     "metadata": {},
     "output_type": "execute_result"
    }
   ],
   "source": [
    "## check for duplicated records\n",
    "df.duplicated().sum()"
   ]
  },
  {
   "cell_type": "code",
   "execution_count": 804,
   "metadata": {},
   "outputs": [
    {
     "name": "stdout",
     "output_type": "stream",
     "text": [
      "Numerical columns: Index(['Delivery_person_Age', 'Delivery_person_Ratings', 'Restaurant_latitude',\n",
      "       'Restaurant_longitude', 'Delivery_location_latitude',\n",
      "       'Delivery_location_longitude', 'Vehicle_condition',\n",
      "       'multiple_deliveries', 'Time_taken (min)'],\n",
      "      dtype='object')\n",
      "Categorical Columns: Index(['Order_Date', 'Time_Orderd', 'Time_Order_picked', 'Weather_conditions',\n",
      "       'Road_traffic_density', 'Type_of_order', 'Type_of_vehicle', 'Festival',\n",
      "       'City'],\n",
      "      dtype='object')\n"
     ]
    }
   ],
   "source": [
    "## segregate numerical and categorical columns\n",
    "\n",
    "numerical_columns=df.columns[df.dtypes!='object']\n",
    "categorical_columns=df.columns[df.dtypes=='object']\n",
    "print(\"Numerical columns:\",numerical_columns)\n",
    "print('Categorical Columns:',categorical_columns)"
   ]
  },
  {
   "cell_type": "code",
   "execution_count": 805,
   "metadata": {},
   "outputs": [
    {
     "data": {
      "text/html": [
       "<div>\n",
       "<style scoped>\n",
       "    .dataframe tbody tr th:only-of-type {\n",
       "        vertical-align: middle;\n",
       "    }\n",
       "\n",
       "    .dataframe tbody tr th {\n",
       "        vertical-align: top;\n",
       "    }\n",
       "\n",
       "    .dataframe thead th {\n",
       "        text-align: right;\n",
       "    }\n",
       "</style>\n",
       "<table border=\"1\" class=\"dataframe\">\n",
       "  <thead>\n",
       "    <tr style=\"text-align: right;\">\n",
       "      <th></th>\n",
       "      <th>Order_Date</th>\n",
       "      <th>Time_Orderd</th>\n",
       "      <th>Time_Order_picked</th>\n",
       "      <th>Weather_conditions</th>\n",
       "      <th>Road_traffic_density</th>\n",
       "      <th>Type_of_order</th>\n",
       "      <th>Type_of_vehicle</th>\n",
       "      <th>Festival</th>\n",
       "      <th>City</th>\n",
       "    </tr>\n",
       "  </thead>\n",
       "  <tbody>\n",
       "    <tr>\n",
       "      <th>count</th>\n",
       "      <td>45584</td>\n",
       "      <td>43853</td>\n",
       "      <td>45584</td>\n",
       "      <td>44968</td>\n",
       "      <td>44983</td>\n",
       "      <td>45584</td>\n",
       "      <td>45584</td>\n",
       "      <td>45356</td>\n",
       "      <td>44384</td>\n",
       "    </tr>\n",
       "    <tr>\n",
       "      <th>unique</th>\n",
       "      <td>44</td>\n",
       "      <td>176</td>\n",
       "      <td>193</td>\n",
       "      <td>6</td>\n",
       "      <td>4</td>\n",
       "      <td>4</td>\n",
       "      <td>4</td>\n",
       "      <td>2</td>\n",
       "      <td>3</td>\n",
       "    </tr>\n",
       "    <tr>\n",
       "      <th>top</th>\n",
       "      <td>15-03-2022</td>\n",
       "      <td>21:55</td>\n",
       "      <td>21:30</td>\n",
       "      <td>Fog</td>\n",
       "      <td>Low</td>\n",
       "      <td>Snack</td>\n",
       "      <td>motorcycle</td>\n",
       "      <td>No</td>\n",
       "      <td>Metropolitian</td>\n",
       "    </tr>\n",
       "    <tr>\n",
       "      <th>freq</th>\n",
       "      <td>1192</td>\n",
       "      <td>461</td>\n",
       "      <td>495</td>\n",
       "      <td>7653</td>\n",
       "      <td>15476</td>\n",
       "      <td>11530</td>\n",
       "      <td>26429</td>\n",
       "      <td>44460</td>\n",
       "      <td>34087</td>\n",
       "    </tr>\n",
       "  </tbody>\n",
       "</table>\n",
       "</div>"
      ],
      "text/plain": [
       "        Order_Date Time_Orderd Time_Order_picked Weather_conditions   \n",
       "count        45584       43853             45584              44968  \\\n",
       "unique          44         176               193                  6   \n",
       "top     15-03-2022       21:55             21:30                Fog   \n",
       "freq          1192         461               495               7653   \n",
       "\n",
       "       Road_traffic_density Type_of_order Type_of_vehicle Festival   \n",
       "count                 44983         45584           45584    45356  \\\n",
       "unique                    4             4               4        2   \n",
       "top                     Low         Snack      motorcycle       No   \n",
       "freq                  15476         11530           26429    44460   \n",
       "\n",
       "                 City  \n",
       "count           44384  \n",
       "unique              3  \n",
       "top     Metropolitian  \n",
       "freq            34087  "
      ]
     },
     "execution_count": 805,
     "metadata": {},
     "output_type": "execute_result"
    }
   ],
   "source": [
    "df[categorical_columns].describe()"
   ]
  },
  {
   "cell_type": "code",
   "execution_count": 806,
   "metadata": {},
   "outputs": [
    {
     "data": {
      "text/plain": [
       "Order_Date\n",
       "15-03-2022    1192\n",
       "03-04-2022    1178\n",
       "13-03-2022    1169\n",
       "26-03-2022    1165\n",
       "24-03-2022    1162\n",
       "09-03-2022    1159\n",
       "05-04-2022    1156\n",
       "05-03-2022    1154\n",
       "07-03-2022    1153\n",
       "03-03-2022    1150\n",
       "21-03-2022    1149\n",
       "11-03-2022    1148\n",
       "19-03-2022    1148\n",
       "30-03-2022    1141\n",
       "01-03-2022    1140\n",
       "28-03-2022    1139\n",
       "17-03-2022    1134\n",
       "01-04-2022    1133\n",
       "02-03-2022    1012\n",
       "10-03-2022     996\n",
       "16-03-2022     995\n",
       "20-03-2022     993\n",
       "02-04-2022     992\n",
       "06-03-2022     986\n",
       "04-03-2022     980\n",
       "29-03-2022     977\n",
       "25-03-2022     974\n",
       "14-03-2022     973\n",
       "11-02-2022     970\n",
       "18-03-2022     968\n",
       "31-03-2022     967\n",
       "27-03-2022     965\n",
       "08-03-2022     964\n",
       "12-03-2022     964\n",
       "23-03-2022     964\n",
       "06-04-2022     961\n",
       "13-02-2022     957\n",
       "15-02-2022     945\n",
       "04-04-2022     941\n",
       "17-02-2022     939\n",
       "12-02-2022     864\n",
       "16-02-2022     861\n",
       "18-02-2022     855\n",
       "14-02-2022     851\n",
       "Name: count, dtype: int64"
      ]
     },
     "execution_count": 806,
     "metadata": {},
     "output_type": "execute_result"
    }
   ],
   "source": [
    "df['Order_Date'].value_counts()"
   ]
  },
  {
   "cell_type": "code",
   "execution_count": 807,
   "metadata": {},
   "outputs": [
    {
     "data": {
      "text/plain": [
       "Time_Orderd\n",
       "21:55          461\n",
       "17:55          456\n",
       "0.833333333    449\n",
       "22:20          448\n",
       "21:35          446\n",
       "              ... \n",
       "14:30           57\n",
       "14:15           56\n",
       "0.666666667     53\n",
       "13:20           52\n",
       "16:30           51\n",
       "Name: count, Length: 176, dtype: int64"
      ]
     },
     "execution_count": 807,
     "metadata": {},
     "output_type": "execute_result"
    }
   ],
   "source": [
    "df['Time_Orderd'].value_counts()"
   ]
  },
  {
   "cell_type": "code",
   "execution_count": 808,
   "metadata": {},
   "outputs": [
    {
     "data": {
      "text/plain": [
       "Time_Order_picked\n",
       "21:30    495\n",
       "22:50    474\n",
       "22:40    458\n",
       "18:40    457\n",
       "17:55    456\n",
       "        ... \n",
       "08:15     48\n",
       "16:15     46\n",
       "16:10     43\n",
       "17:10     39\n",
       "16:20     38\n",
       "Name: count, Length: 193, dtype: int64"
      ]
     },
     "execution_count": 808,
     "metadata": {},
     "output_type": "execute_result"
    }
   ],
   "source": [
    "df['Time_Order_picked'].value_counts()"
   ]
  },
  {
   "cell_type": "code",
   "execution_count": 809,
   "metadata": {},
   "outputs": [
    {
     "data": {
      "text/plain": [
       "Weather_conditions\n",
       "Fog           7653\n",
       "Stormy        7584\n",
       "Cloudy        7533\n",
       "Sandstorms    7494\n",
       "Windy         7422\n",
       "Sunny         7282\n",
       "Name: count, dtype: int64"
      ]
     },
     "execution_count": 809,
     "metadata": {},
     "output_type": "execute_result"
    }
   ],
   "source": [
    "df['Weather_conditions'].value_counts()"
   ]
  },
  {
   "cell_type": "code",
   "execution_count": 810,
   "metadata": {},
   "outputs": [
    {
     "data": {
      "text/plain": [
       "Road_traffic_density\n",
       "Low       15476\n",
       "Jam       14139\n",
       "Medium    10945\n",
       "High       4423\n",
       "Name: count, dtype: int64"
      ]
     },
     "execution_count": 810,
     "metadata": {},
     "output_type": "execute_result"
    }
   ],
   "source": [
    "df['Road_traffic_density'].value_counts()"
   ]
  },
  {
   "cell_type": "code",
   "execution_count": 811,
   "metadata": {},
   "outputs": [
    {
     "data": {
      "text/plain": [
       "Type_of_order\n",
       "Snack     11530\n",
       "Meal      11456\n",
       "Drinks    11321\n",
       "Buffet    11277\n",
       "Name: count, dtype: int64"
      ]
     },
     "execution_count": 811,
     "metadata": {},
     "output_type": "execute_result"
    }
   ],
   "source": [
    "df['Type_of_order'].value_counts()"
   ]
  },
  {
   "cell_type": "code",
   "execution_count": 812,
   "metadata": {},
   "outputs": [
    {
     "data": {
      "text/plain": [
       "Type_of_vehicle\n",
       "motorcycle          26429\n",
       "scooter             15273\n",
       "electric_scooter     3814\n",
       "bicycle                68\n",
       "Name: count, dtype: int64"
      ]
     },
     "execution_count": 812,
     "metadata": {},
     "output_type": "execute_result"
    }
   ],
   "source": [
    "df['Type_of_vehicle'].value_counts()"
   ]
  },
  {
   "cell_type": "code",
   "execution_count": 813,
   "metadata": {},
   "outputs": [
    {
     "data": {
      "text/plain": [
       "Festival\n",
       "No     44460\n",
       "Yes      896\n",
       "Name: count, dtype: int64"
      ]
     },
     "execution_count": 813,
     "metadata": {},
     "output_type": "execute_result"
    }
   ],
   "source": [
    "df['Festival'].value_counts()"
   ]
  },
  {
   "cell_type": "code",
   "execution_count": 814,
   "metadata": {},
   "outputs": [
    {
     "data": {
      "text/plain": [
       "City\n",
       "Metropolitian    34087\n",
       "Urban            10133\n",
       "Semi-Urban         164\n",
       "Name: count, dtype: int64"
      ]
     },
     "execution_count": 814,
     "metadata": {},
     "output_type": "execute_result"
    }
   ],
   "source": [
    "df['City'].value_counts()"
   ]
  },
  {
   "cell_type": "code",
   "execution_count": 815,
   "metadata": {},
   "outputs": [
    {
     "name": "stdout",
     "output_type": "stream",
     "text": [
      "\n",
      "\n"
     ]
    },
    {
     "data": {
      "image/png": "[encoded data removed]",
      "text/plain": [
       "<Figure size 800x600 with 1 Axes>"
      ]
     },
     "metadata": {},
     "output_type": "display_data"
    },
    {
     "name": "stdout",
     "output_type": "stream",
     "text": [
      "\n",
      "\n"
     ]
    },
    {
     "data": {
      "image/png": "[encoded data removed]",
      "text/plain": [
       "<Figure size 640x480 with 1 Axes>"
      ]
     },
     "metadata": {},
     "output_type": "display_data"
    },
    {
     "name": "stdout",
     "output_type": "stream",
     "text": [
      "\n",
      "\n"
     ]
    },
    {
     "data": {
      "image/png": "[encoded data removed]",
      "text/plain": [
       "<Figure size 640x480 with 1 Axes>"
      ]
     },
     "metadata": {},
     "output_type": "display_data"
    },
    {
     "name": "stdout",
     "output_type": "stream",
     "text": [
      "\n",
      "\n"
     ]
    },
    {
     "data": {
      "image/png": "[encoded data removed]",
      "text/plain": [
       "<Figure size 640x480 with 1 Axes>"
      ]
     },
     "metadata": {},
     "output_type": "display_data"
    },
    {
     "name": "stdout",
     "output_type": "stream",
     "text": [
      "\n",
      "\n"
     ]
    },
    {
     "data": {
      "image/png": "[encoded data removed]",
      "text/plain": [
       "<Figure size 640x480 with 1 Axes>"
      ]
     },
     "metadata": {},
     "output_type": "display_data"
    },
    {
     "name": "stdout",
     "output_type": "stream",
     "text": [
      "\n",
      "\n"
     ]
    },
    {
     "data": {
      "image/png": "[encoded data removed]",
      "text/plain": [
       "<Figure size 640x480 with 1 Axes>"
      ]
     },
     "metadata": {},
     "output_type": "display_data"
    },
    {
     "name": "stdout",
     "output_type": "stream",
     "text": [
      "\n",
      "\n"
     ]
    },
    {
     "data": {
      "image/png": "[encoded data removed]",
      "text/plain": [
       "<Figure size 640x480 with 1 Axes>"
      ]
     },
     "metadata": {},
     "output_type": "display_data"
    },
    {
     "name": "stdout",
     "output_type": "stream",
     "text": [
      "\n",
      "\n"
     ]
    },
    {
     "data": {
      "image/png": "[encoded data removed]",
      "text/plain": [
       "<Figure size 640x480 with 1 Axes>"
      ]
     },
     "metadata": {},
     "output_type": "display_data"
    },
    {
     "name": "stdout",
     "output_type": "stream",
     "text": [
      "\n",
      "\n"
     ]
    },
    {
     "data": {
      "image/png": "[encoded data removed]",
      "text/plain": [
       "<Figure size 640x480 with 1 Axes>"
      ]
     },
     "metadata": {},
     "output_type": "display_data"
    }
   ],
   "source": [
    "import seaborn as sns\n",
    "import matplotlib.pyplot as plt\n",
    "plt.figure(figsize=(8,6))\n",
    "x=0\n",
    "for i in numerical_columns:\n",
    "    sns.histplot(data=df,x=i,kde=True)\n",
    "    print('\\n')\n",
    "    plt.show()"
   ]
  },
  {
   "cell_type": "code",
   "execution_count": 816,
   "metadata": {},
   "outputs": [
    {
     "data": {
      "text/html": [
       "<div>\n",
       "<style scoped>\n",
       "    .dataframe tbody tr th:only-of-type {\n",
       "        vertical-align: middle;\n",
       "    }\n",
       "\n",
       "    .dataframe tbody tr th {\n",
       "        vertical-align: top;\n",
       "    }\n",
       "\n",
       "    .dataframe thead th {\n",
       "        text-align: right;\n",
       "    }\n",
       "</style>\n",
       "<table border=\"1\" class=\"dataframe\">\n",
       "  <thead>\n",
       "    <tr style=\"text-align: right;\">\n",
       "      <th></th>\n",
       "      <th>Delivery_person_Age</th>\n",
       "      <th>Delivery_person_Ratings</th>\n",
       "      <th>Restaurant_latitude</th>\n",
       "      <th>Restaurant_longitude</th>\n",
       "      <th>Delivery_location_latitude</th>\n",
       "      <th>Order_Date</th>\n",
       "      <th>Time_Orderd</th>\n",
       "      <th>Time_Order_picked</th>\n",
       "      <th>Weather_conditions</th>\n",
       "      <th>Road_traffic_density</th>\n",
       "      <th>Type_of_order</th>\n",
       "      <th>Type_of_vehicle</th>\n",
       "      <th>Festival</th>\n",
       "      <th>City</th>\n",
       "      <th>Time_taken (min)</th>\n",
       "    </tr>\n",
       "  </thead>\n",
       "  <tbody>\n",
       "    <tr>\n",
       "      <th>0</th>\n",
       "      <td>36.0</td>\n",
       "      <td>4.2</td>\n",
       "      <td>30.327968</td>\n",
       "      <td>78.046106</td>\n",
       "      <td>30.397968</td>\n",
       "      <td>12-02-2022</td>\n",
       "      <td>21:55</td>\n",
       "      <td>22:10</td>\n",
       "      <td>Fog</td>\n",
       "      <td>Jam</td>\n",
       "      <td>Snack</td>\n",
       "      <td>motorcycle</td>\n",
       "      <td>No</td>\n",
       "      <td>Metropolitian</td>\n",
       "      <td>46</td>\n",
       "    </tr>\n",
       "    <tr>\n",
       "      <th>1</th>\n",
       "      <td>21.0</td>\n",
       "      <td>4.7</td>\n",
       "      <td>10.003064</td>\n",
       "      <td>76.307589</td>\n",
       "      <td>10.043064</td>\n",
       "      <td>13-02-2022</td>\n",
       "      <td>14:55</td>\n",
       "      <td>15:05</td>\n",
       "      <td>Stormy</td>\n",
       "      <td>High</td>\n",
       "      <td>Meal</td>\n",
       "      <td>motorcycle</td>\n",
       "      <td>No</td>\n",
       "      <td>Metropolitian</td>\n",
       "      <td>23</td>\n",
       "    </tr>\n",
       "    <tr>\n",
       "      <th>2</th>\n",
       "      <td>23.0</td>\n",
       "      <td>4.7</td>\n",
       "      <td>18.562450</td>\n",
       "      <td>73.916619</td>\n",
       "      <td>18.652450</td>\n",
       "      <td>04-03-2022</td>\n",
       "      <td>17:30</td>\n",
       "      <td>17:40</td>\n",
       "      <td>Sandstorms</td>\n",
       "      <td>Medium</td>\n",
       "      <td>Drinks</td>\n",
       "      <td>scooter</td>\n",
       "      <td>No</td>\n",
       "      <td>Metropolitian</td>\n",
       "      <td>21</td>\n",
       "    </tr>\n",
       "    <tr>\n",
       "      <th>3</th>\n",
       "      <td>34.0</td>\n",
       "      <td>4.3</td>\n",
       "      <td>30.899584</td>\n",
       "      <td>75.809346</td>\n",
       "      <td>30.919584</td>\n",
       "      <td>13-02-2022</td>\n",
       "      <td>09:20</td>\n",
       "      <td>09:30</td>\n",
       "      <td>Sandstorms</td>\n",
       "      <td>Low</td>\n",
       "      <td>Buffet</td>\n",
       "      <td>motorcycle</td>\n",
       "      <td>No</td>\n",
       "      <td>Metropolitian</td>\n",
       "      <td>20</td>\n",
       "    </tr>\n",
       "    <tr>\n",
       "      <th>4</th>\n",
       "      <td>24.0</td>\n",
       "      <td>4.7</td>\n",
       "      <td>26.463504</td>\n",
       "      <td>80.372929</td>\n",
       "      <td>26.593504</td>\n",
       "      <td>14-02-2022</td>\n",
       "      <td>19:50</td>\n",
       "      <td>20:05</td>\n",
       "      <td>Fog</td>\n",
       "      <td>Jam</td>\n",
       "      <td>Snack</td>\n",
       "      <td>scooter</td>\n",
       "      <td>No</td>\n",
       "      <td>Metropolitian</td>\n",
       "      <td>41</td>\n",
       "    </tr>\n",
       "    <tr>\n",
       "      <th>...</th>\n",
       "      <td>...</td>\n",
       "      <td>...</td>\n",
       "      <td>...</td>\n",
       "      <td>...</td>\n",
       "      <td>...</td>\n",
       "      <td>...</td>\n",
       "      <td>...</td>\n",
       "      <td>...</td>\n",
       "      <td>...</td>\n",
       "      <td>...</td>\n",
       "      <td>...</td>\n",
       "      <td>...</td>\n",
       "      <td>...</td>\n",
       "      <td>...</td>\n",
       "      <td>...</td>\n",
       "    </tr>\n",
       "    <tr>\n",
       "      <th>45579</th>\n",
       "      <td>30.0</td>\n",
       "      <td>4.8</td>\n",
       "      <td>26.902328</td>\n",
       "      <td>75.794257</td>\n",
       "      <td>26.912328</td>\n",
       "      <td>24-03-2022</td>\n",
       "      <td>11:35</td>\n",
       "      <td>11:45</td>\n",
       "      <td>Windy</td>\n",
       "      <td>High</td>\n",
       "      <td>Meal</td>\n",
       "      <td>motorcycle</td>\n",
       "      <td>No</td>\n",
       "      <td>Metropolitian</td>\n",
       "      <td>32</td>\n",
       "    </tr>\n",
       "    <tr>\n",
       "      <th>45580</th>\n",
       "      <td>21.0</td>\n",
       "      <td>4.6</td>\n",
       "      <td>0.000000</td>\n",
       "      <td>0.000000</td>\n",
       "      <td>0.070000</td>\n",
       "      <td>16-02-2022</td>\n",
       "      <td>19:55</td>\n",
       "      <td>20:10</td>\n",
       "      <td>Windy</td>\n",
       "      <td>Jam</td>\n",
       "      <td>Buffet</td>\n",
       "      <td>motorcycle</td>\n",
       "      <td>No</td>\n",
       "      <td>Metropolitian</td>\n",
       "      <td>36</td>\n",
       "    </tr>\n",
       "    <tr>\n",
       "      <th>45581</th>\n",
       "      <td>30.0</td>\n",
       "      <td>4.9</td>\n",
       "      <td>13.022394</td>\n",
       "      <td>80.242439</td>\n",
       "      <td>13.052394</td>\n",
       "      <td>11-03-2022</td>\n",
       "      <td>23:50</td>\n",
       "      <td>24:05:00</td>\n",
       "      <td>Cloudy</td>\n",
       "      <td>Low</td>\n",
       "      <td>Drinks</td>\n",
       "      <td>scooter</td>\n",
       "      <td>No</td>\n",
       "      <td>Metropolitian</td>\n",
       "      <td>16</td>\n",
       "    </tr>\n",
       "    <tr>\n",
       "      <th>45582</th>\n",
       "      <td>20.0</td>\n",
       "      <td>4.7</td>\n",
       "      <td>11.001753</td>\n",
       "      <td>76.986241</td>\n",
       "      <td>11.041753</td>\n",
       "      <td>07-03-2022</td>\n",
       "      <td>13:35</td>\n",
       "      <td>13:40</td>\n",
       "      <td>Cloudy</td>\n",
       "      <td>High</td>\n",
       "      <td>Snack</td>\n",
       "      <td>motorcycle</td>\n",
       "      <td>No</td>\n",
       "      <td>Metropolitian</td>\n",
       "      <td>26</td>\n",
       "    </tr>\n",
       "    <tr>\n",
       "      <th>45583</th>\n",
       "      <td>23.0</td>\n",
       "      <td>4.9</td>\n",
       "      <td>23.351058</td>\n",
       "      <td>85.325731</td>\n",
       "      <td>23.431058</td>\n",
       "      <td>02-03-2022</td>\n",
       "      <td>17:10</td>\n",
       "      <td>17:15</td>\n",
       "      <td>Fog</td>\n",
       "      <td>Medium</td>\n",
       "      <td>Snack</td>\n",
       "      <td>scooter</td>\n",
       "      <td>No</td>\n",
       "      <td>Metropolitian</td>\n",
       "      <td>36</td>\n",
       "    </tr>\n",
       "  </tbody>\n",
       "</table>\n",
       "<p>45584 rows × 15 columns</p>\n",
       "</div>"
      ],
      "text/plain": [
       "       Delivery_person_Age  Delivery_person_Ratings  Restaurant_latitude   \n",
       "0                     36.0                      4.2            30.327968  \\\n",
       "1                     21.0                      4.7            10.003064   \n",
       "2                     23.0                      4.7            18.562450   \n",
       "3                     34.0                      4.3            30.899584   \n",
       "4                     24.0                      4.7            26.463504   \n",
       "...                    ...                      ...                  ...   \n",
       "45579                 30.0                      4.8            26.902328   \n",
       "45580                 21.0                      4.6             0.000000   \n",
       "45581                 30.0                      4.9            13.022394   \n",
       "45582                 20.0                      4.7            11.001753   \n",
       "45583                 23.0                      4.9            23.351058   \n",
       "\n",
       "       Restaurant_longitude  Delivery_location_latitude  Order_Date   \n",
       "0                 78.046106                   30.397968  12-02-2022  \\\n",
       "1                 76.307589                   10.043064  13-02-2022   \n",
       "2                 73.916619                   18.652450  04-03-2022   \n",
       "3                 75.809346                   30.919584  13-02-2022   \n",
       "4                 80.372929                   26.593504  14-02-2022   \n",
       "...                     ...                         ...         ...   \n",
       "45579             75.794257                   26.912328  24-03-2022   \n",
       "45580              0.000000                    0.070000  16-02-2022   \n",
       "45581             80.242439                   13.052394  11-03-2022   \n",
       "45582             76.986241                   11.041753  07-03-2022   \n",
       "45583             85.325731                   23.431058  02-03-2022   \n",
       "\n",
       "      Time_Orderd Time_Order_picked Weather_conditions Road_traffic_density   \n",
       "0           21:55             22:10                Fog                  Jam  \\\n",
       "1           14:55             15:05             Stormy                 High   \n",
       "2           17:30             17:40         Sandstorms               Medium   \n",
       "3           09:20             09:30         Sandstorms                  Low   \n",
       "4           19:50             20:05                Fog                  Jam   \n",
       "...           ...               ...                ...                  ...   \n",
       "45579       11:35             11:45              Windy                 High   \n",
       "45580       19:55             20:10              Windy                  Jam   \n",
       "45581       23:50          24:05:00             Cloudy                  Low   \n",
       "45582       13:35             13:40             Cloudy                 High   \n",
       "45583       17:10             17:15                Fog               Medium   \n",
       "\n",
       "      Type_of_order Type_of_vehicle Festival           City  Time_taken (min)  \n",
       "0             Snack      motorcycle       No  Metropolitian                46  \n",
       "1              Meal      motorcycle       No  Metropolitian                23  \n",
       "2            Drinks         scooter       No  Metropolitian                21  \n",
       "3            Buffet      motorcycle       No  Metropolitian                20  \n",
       "4             Snack         scooter       No  Metropolitian                41  \n",
       "...             ...             ...      ...            ...               ...  \n",
       "45579          Meal      motorcycle       No  Metropolitian                32  \n",
       "45580        Buffet      motorcycle       No  Metropolitian                36  \n",
       "45581        Drinks         scooter       No  Metropolitian                16  \n",
       "45582         Snack      motorcycle       No  Metropolitian                26  \n",
       "45583         Snack         scooter       No  Metropolitian                36  \n",
       "\n",
       "[45584 rows x 15 columns]"
      ]
     },
     "execution_count": 816,
     "metadata": {},
     "output_type": "execute_result"
    }
   ],
   "source": [
    "df.drop(labels=['Delivery_location_longitude', 'Vehicle_condition','multiple_deliveries'],axis=1)"
   ]
  },
  {
   "cell_type": "code",
   "execution_count": 817,
   "metadata": {},
   "outputs": [
    {
     "data": {
      "text/html": [
       "<div>\n",
       "<style scoped>\n",
       "    .dataframe tbody tr th:only-of-type {\n",
       "        vertical-align: middle;\n",
       "    }\n",
       "\n",
       "    .dataframe tbody tr th {\n",
       "        vertical-align: top;\n",
       "    }\n",
       "\n",
       "    .dataframe thead th {\n",
       "        text-align: right;\n",
       "    }\n",
       "</style>\n",
       "<table border=\"1\" class=\"dataframe\">\n",
       "  <thead>\n",
       "    <tr style=\"text-align: right;\">\n",
       "      <th></th>\n",
       "      <th>Delivery_person_Age</th>\n",
       "      <th>Delivery_person_Ratings</th>\n",
       "      <th>Restaurant_latitude</th>\n",
       "      <th>Restaurant_longitude</th>\n",
       "      <th>Delivery_location_latitude</th>\n",
       "      <th>Delivery_location_longitude</th>\n",
       "      <th>Order_Date</th>\n",
       "      <th>Time_Orderd</th>\n",
       "      <th>Time_Order_picked</th>\n",
       "      <th>Weather_conditions</th>\n",
       "      <th>Road_traffic_density</th>\n",
       "      <th>Vehicle_condition</th>\n",
       "      <th>Type_of_order</th>\n",
       "      <th>Type_of_vehicle</th>\n",
       "      <th>multiple_deliveries</th>\n",
       "      <th>Festival</th>\n",
       "      <th>City</th>\n",
       "      <th>Time_taken (min)</th>\n",
       "    </tr>\n",
       "  </thead>\n",
       "  <tbody>\n",
       "    <tr>\n",
       "      <th>0</th>\n",
       "      <td>36.0</td>\n",
       "      <td>4.2</td>\n",
       "      <td>30.327968</td>\n",
       "      <td>78.046106</td>\n",
       "      <td>30.397968</td>\n",
       "      <td>78.116106</td>\n",
       "      <td>12-02-2022</td>\n",
       "      <td>21:55</td>\n",
       "      <td>22:10</td>\n",
       "      <td>Fog</td>\n",
       "      <td>Jam</td>\n",
       "      <td>2</td>\n",
       "      <td>Snack</td>\n",
       "      <td>motorcycle</td>\n",
       "      <td>3.0</td>\n",
       "      <td>No</td>\n",
       "      <td>Metropolitian</td>\n",
       "      <td>46</td>\n",
       "    </tr>\n",
       "    <tr>\n",
       "      <th>1</th>\n",
       "      <td>21.0</td>\n",
       "      <td>4.7</td>\n",
       "      <td>10.003064</td>\n",
       "      <td>76.307589</td>\n",
       "      <td>10.043064</td>\n",
       "      <td>76.347589</td>\n",
       "      <td>13-02-2022</td>\n",
       "      <td>14:55</td>\n",
       "      <td>15:05</td>\n",
       "      <td>Stormy</td>\n",
       "      <td>High</td>\n",
       "      <td>1</td>\n",
       "      <td>Meal</td>\n",
       "      <td>motorcycle</td>\n",
       "      <td>1.0</td>\n",
       "      <td>No</td>\n",
       "      <td>Metropolitian</td>\n",
       "      <td>23</td>\n",
       "    </tr>\n",
       "    <tr>\n",
       "      <th>2</th>\n",
       "      <td>23.0</td>\n",
       "      <td>4.7</td>\n",
       "      <td>18.562450</td>\n",
       "      <td>73.916619</td>\n",
       "      <td>18.652450</td>\n",
       "      <td>74.006619</td>\n",
       "      <td>04-03-2022</td>\n",
       "      <td>17:30</td>\n",
       "      <td>17:40</td>\n",
       "      <td>Sandstorms</td>\n",
       "      <td>Medium</td>\n",
       "      <td>1</td>\n",
       "      <td>Drinks</td>\n",
       "      <td>scooter</td>\n",
       "      <td>1.0</td>\n",
       "      <td>No</td>\n",
       "      <td>Metropolitian</td>\n",
       "      <td>21</td>\n",
       "    </tr>\n",
       "    <tr>\n",
       "      <th>3</th>\n",
       "      <td>34.0</td>\n",
       "      <td>4.3</td>\n",
       "      <td>30.899584</td>\n",
       "      <td>75.809346</td>\n",
       "      <td>30.919584</td>\n",
       "      <td>75.829346</td>\n",
       "      <td>13-02-2022</td>\n",
       "      <td>09:20</td>\n",
       "      <td>09:30</td>\n",
       "      <td>Sandstorms</td>\n",
       "      <td>Low</td>\n",
       "      <td>0</td>\n",
       "      <td>Buffet</td>\n",
       "      <td>motorcycle</td>\n",
       "      <td>0.0</td>\n",
       "      <td>No</td>\n",
       "      <td>Metropolitian</td>\n",
       "      <td>20</td>\n",
       "    </tr>\n",
       "    <tr>\n",
       "      <th>4</th>\n",
       "      <td>24.0</td>\n",
       "      <td>4.7</td>\n",
       "      <td>26.463504</td>\n",
       "      <td>80.372929</td>\n",
       "      <td>26.593504</td>\n",
       "      <td>80.502929</td>\n",
       "      <td>14-02-2022</td>\n",
       "      <td>19:50</td>\n",
       "      <td>20:05</td>\n",
       "      <td>Fog</td>\n",
       "      <td>Jam</td>\n",
       "      <td>1</td>\n",
       "      <td>Snack</td>\n",
       "      <td>scooter</td>\n",
       "      <td>1.0</td>\n",
       "      <td>No</td>\n",
       "      <td>Metropolitian</td>\n",
       "      <td>41</td>\n",
       "    </tr>\n",
       "  </tbody>\n",
       "</table>\n",
       "</div>"
      ],
      "text/plain": [
       "   Delivery_person_Age  Delivery_person_Ratings  Restaurant_latitude   \n",
       "0                 36.0                      4.2            30.327968  \\\n",
       "1                 21.0                      4.7            10.003064   \n",
       "2                 23.0                      4.7            18.562450   \n",
       "3                 34.0                      4.3            30.899584   \n",
       "4                 24.0                      4.7            26.463504   \n",
       "\n",
       "   Restaurant_longitude  Delivery_location_latitude   \n",
       "0             78.046106                   30.397968  \\\n",
       "1             76.307589                   10.043064   \n",
       "2             73.916619                   18.652450   \n",
       "3             75.809346                   30.919584   \n",
       "4             80.372929                   26.593504   \n",
       "\n",
       "   Delivery_location_longitude  Order_Date Time_Orderd Time_Order_picked   \n",
       "0                    78.116106  12-02-2022       21:55             22:10  \\\n",
       "1                    76.347589  13-02-2022       14:55             15:05   \n",
       "2                    74.006619  04-03-2022       17:30             17:40   \n",
       "3                    75.829346  13-02-2022       09:20             09:30   \n",
       "4                    80.502929  14-02-2022       19:50             20:05   \n",
       "\n",
       "  Weather_conditions Road_traffic_density  Vehicle_condition Type_of_order   \n",
       "0                Fog                  Jam                  2         Snack  \\\n",
       "1             Stormy                 High                  1          Meal   \n",
       "2         Sandstorms               Medium                  1        Drinks   \n",
       "3         Sandstorms                  Low                  0        Buffet   \n",
       "4                Fog                  Jam                  1         Snack   \n",
       "\n",
       "  Type_of_vehicle  multiple_deliveries Festival           City   \n",
       "0      motorcycle                  3.0       No  Metropolitian  \\\n",
       "1      motorcycle                  1.0       No  Metropolitian   \n",
       "2         scooter                  1.0       No  Metropolitian   \n",
       "3      motorcycle                  0.0       No  Metropolitian   \n",
       "4         scooter                  1.0       No  Metropolitian   \n",
       "\n",
       "   Time_taken (min)  \n",
       "0                46  \n",
       "1                23  \n",
       "2                21  \n",
       "3                20  \n",
       "4                41  "
      ]
     },
     "execution_count": 817,
     "metadata": {},
     "output_type": "execute_result"
    }
   ],
   "source": [
    "df.head()"
   ]
  },
  {
   "cell_type": "code",
   "execution_count": 818,
   "metadata": {},
   "outputs": [
    {
     "data": {
      "text/plain": [
       "array(['12-02-2022', '13-02-2022', '04-03-2022', '14-02-2022',\n",
       "       '02-04-2022', '01-03-2022', '16-03-2022', '20-03-2022',\n",
       "       '15-02-2022', '10-03-2022', '11-03-2022', '27-03-2022',\n",
       "       '26-03-2022', '05-04-2022', '12-03-2022', '01-04-2022',\n",
       "       '05-03-2022', '11-02-2022', '08-03-2022', '03-04-2022',\n",
       "       '30-03-2022', '28-03-2022', '18-03-2022', '14-03-2022',\n",
       "       '06-04-2022', '04-04-2022', '24-03-2022', '19-03-2022',\n",
       "       '09-03-2022', '25-03-2022', '02-03-2022', '13-03-2022',\n",
       "       '29-03-2022', '31-03-2022', '17-03-2022', '07-03-2022',\n",
       "       '15-03-2022', '16-02-2022', '03-03-2022', '18-02-2022',\n",
       "       '23-03-2022', '17-02-2022', '06-03-2022', '21-03-2022'],\n",
       "      dtype=object)"
      ]
     },
     "execution_count": 818,
     "metadata": {},
     "output_type": "execute_result"
    }
   ],
   "source": [
    "df['Order_Date'].unique()"
   ]
  },
  {
   "cell_type": "code",
   "execution_count": 851,
   "metadata": {},
   "outputs": [],
   "source": [
    "Order_Date_map={\"11-02-2022\":1,\"12-02-2022\":2,\"13-02-2022\":3,\"14-02-2022\":4,\n",
    "                \"15-02-2022\":5,\"16-02-2022\":6,\"17-02-2022\":7,\"18-02-2022\":8,\n",
    "                \"01-03-2022\":9,\"02-03-2022\":10,\"03-03-2022\":11,\"04-03-2022\":12,\"05-03-2022\":13,\n",
    "                \"06-03-2022\":14,\"07-03-2022\":15,\"08-03-2022\":16,\"09-03-2022\":17,\"10-03-2022\":18,\n",
    "                \"11-03-2022\":19,\"12-03-2022\":20,\"13-03-2022\":21,\"14-03-2022\":22,\"15-03-2022\":23,\n",
    "                \"16-03-2022\":24,\"17-03-2022\":25,\"18-03-2022\":26,\"19-03-2022\":27,\"20-03-2022\":28,\n",
    "                \"21-03-2022\":29,\"23-03-2022\":30,\"24-03-2022\":31,\"25-03-2022\":32,\"26-03-2022\":33,\n",
    "                \"27-03-2022\":34,\"28-03-2022\":35,\"29-03-2022\":36,\"30-03-2022\":37,\"31-03-2022\":38,\n",
    "                \"01-04-2022\":39,\"02-04-2022\":40,\"03-04-2022\":41,\"04-04-2022\":42,\"05-04-2022\":43,\"06-04-2022\":44}"
   ]
  },
  {
   "cell_type": "code",
   "execution_count": 852,
   "metadata": {},
   "outputs": [
    {
     "data": {
      "text/plain": [
       "{'11-02-2022': 1,\n",
       " '12-02-2022': 2,\n",
       " '13-02-2022': 3,\n",
       " '14-02-2022': 4,\n",
       " '15-02-2022': 5,\n",
       " '16-02-2022': 6,\n",
       " '17-02-2022': 7,\n",
       " '18-02-2022': 8,\n",
       " '01-03-2022': 9,\n",
       " '02-03-2022': 10,\n",
       " '03-03-2022': 11,\n",
       " '04-03-2022': 12,\n",
       " '05-03-2022': 13,\n",
       " '06-03-2022': 14,\n",
       " '07-03-2022': 15,\n",
       " '08-03-2022': 16,\n",
       " '09-03-2022': 17,\n",
       " '10-03-2022': 18,\n",
       " '11-03-2022': 19,\n",
       " '12-03-2022': 20,\n",
       " '13-03-2022': 21,\n",
       " '14-03-2022': 22,\n",
       " '15-03-2022': 23,\n",
       " '16-03-2022': 24,\n",
       " '17-03-2022': 25,\n",
       " '18-03-2022': 26,\n",
       " '19-03-2022': 27,\n",
       " '20-03-2022': 28,\n",
       " '21-03-2022': 29,\n",
       " '23-03-2022': 30,\n",
       " '24-03-2022': 31,\n",
       " '25-03-2022': 32,\n",
       " '26-03-2022': 33,\n",
       " '27-03-2022': 34,\n",
       " '28-03-2022': 35,\n",
       " '29-03-2022': 36,\n",
       " '30-03-2022': 37,\n",
       " '31-03-2022': 38,\n",
       " '01-04-2022': 39,\n",
       " '02-04-2022': 40,\n",
       " '03-04-2022': 41,\n",
       " '04-04-2022': 42,\n",
       " '05-04-2022': 43,\n",
       " '06-04-2022': 44}"
      ]
     },
     "execution_count": 852,
     "metadata": {},
     "output_type": "execute_result"
    }
   ],
   "source": [
    "Order_Date_map"
   ]
  },
  {
   "cell_type": "code",
   "execution_count": 853,
   "metadata": {},
   "outputs": [
    {
     "data": {
      "text/plain": [
       "array([nan])"
      ]
     },
     "execution_count": 853,
     "metadata": {},
     "output_type": "execute_result"
    }
   ],
   "source": [
    "df['Time_Orderd'].unique()"
   ]
  },
  {
   "cell_type": "code",
   "execution_count": 854,
   "metadata": {},
   "outputs": [],
   "source": [
    "Time_Order_map={\"21:55\":1,\"14:55\":2,\"17:30\":3,\"09:20\":4, \"19:50\":5,\"20:25\":6,\"20:30\":7,\n",
    "                \"20:40\":8, \"21:15\":9,\"20:20\":10,\"22:30\":11,\"08:15\":12,\"19:30\":13,\"12:25\":14,\n",
    "                \"18:35\":15, \"20:35\":16, \"23:20\":17, \"21:20\":18, \"23:35\":19, \"22:35\":20, \"23:25\":21,\n",
    "                \"13:35\":23, \"21:35\":24, \"18:55\":25, \"14:15\":26, \"0.458333333\":27, \"09:45\":28,\n",
    "                \"08:40\":29, \"0.958333333\":30, \"17:25\":31, \"nan\":32, \"19:45\":33, \"19:10\":34, \"10:55\":35,\n",
    "                \"21:40\":36, \"0.791666667\":37, \"16:45\":38, \"11:30\":39, \"15:10\":40, \"22:45\":41,\n",
    "                \"22:10\":42, \"20:45\":43, \"22:50\":44, \"17:55\":45, \"09:25\":46, \"20:15\":47, \"22:25\":48,\n",
    "                \"22:40\":49, \"23:50\":50, \"15:25\":51, \"10:20\":52, \"20:55\":53, \"10:40\":54, \"15:55\":55,\n",
    "                \"20:10\":56, \"12:10\":57, \"15:30\":58, \"10:35\":59, \"21:10\":60, \"20:50\":61, \"12:35\":62,\n",
    "                \"0.875\":63, \"23:40\":64, \"18:15\":65, \"18:20\":66, \"11:45\":67, \"12:45\":68, \"23:30\":69,\n",
    "                \"10:50\":70, \"21:25\":71, \"10:10\":72, \"17:50\":73, \"22:20\":74, \"12:40\":75, \"23:55\":76,\n",
    "                \"10:25\":77, \"08:45\":78, \"23:45\":79, \"19:55\":80, \"22:15\":81, \"23:10\":82, \"09:15\":83,\n",
    "                \"18:25\":84, \"18:45\":85, \"16:50\":86, \"1\":87, \"14:20\":88, \"10:15\":89, \"08:50\":90, \"0.375\":91,\n",
    "                \"17:45\":92, \"16:35\":93, \"08:30\":94, \"21:45\":95, \"19:40\":96, \"14:50\":97, \"18:10\":98,\n",
    "                \"12:20\":99, \"12:50\":100, \"09:10\":101, \"12:30\":102, \"17:10\":103, \"19:15\":104, \"17:20\":105,\n",
    "                \"18:30\":106, \"13:10\":107, \"19:35\":108, \"09:50\":109, \"0.625\":110, \"0.833333333\":111,\n",
    "                \"10:30\":112, \"09:40\":113, \"15:35\":114, \"16:55\":115, \"22:55\":116, \"0.666666667\":117, \"0.75\":118,\n",
    "                \"17:15\":119, \"21:30\":120, \"18:40\":121, \"11:10\":122, \"13:50\":123, \"0.416666667\":124,\n",
    "                \"21:50\":125, \"11:50\":126, \"13:30\":127, \"0.916666667\":128, \"08:25\":129, \"11:20\":130,\n",
    "                \"11:55\":131, \"09:30\":132, \"08:20\":133, \"08:10\":134, \"11:40\":135, \"23:15\":136, \"19:20\":137,\n",
    "                \"12:15\":138, \"11:35\":139, \"11:15\":140, \"17:35\":141, \"17:40\":142, \"14:40\":143, \"18:50\":144,\n",
    "                \"11:25\":145, \"14:25\":146, \"0.5\":147, \"16:10\":148, \"19:25\":149, \"08:55\":150, \"13:40\":151,\n",
    "                \"0.708333333\":152, \"09:35\":153, \"08:35\":154, \"16:15\":155, \"13:20\":156, \"15:50\":157,\n",
    "                \"15:20\":158, \"16:20\":159, \"14:30\":160, \"15:45\":161, \"16:40\":162, \"0.541666667\":163,\n",
    "                \"12:55\":164, \"10:45\":165, \"13:25\":166, \"09:55\":167, \"15:15\":168, \"13:15\":169,\n",
    "                \"0.583333333\":170, \"15:40\":171, \"16:25\":172, \"14:10\":173, \"13:45\":174, \"13:55\":175,\n",
    "                \"14:35\":176, \"16:30\":177, \"14:45\":178}"
   ]
  },
  {
   "cell_type": "code",
   "execution_count": 855,
   "metadata": {},
   "outputs": [
    {
     "data": {
      "text/plain": [
       "{'21:55': 1,\n",
       " '14:55': 2,\n",
       " '17:30': 3,\n",
       " '09:20': 4,\n",
       " '19:50': 5,\n",
       " '20:25': 6,\n",
       " '20:30': 7,\n",
       " '20:40': 8,\n",
       " '21:15': 9,\n",
       " '20:20': 10,\n",
       " '22:30': 11,\n",
       " '08:15': 12,\n",
       " '19:30': 13,\n",
       " '12:25': 14,\n",
       " '18:35': 15,\n",
       " '20:35': 16,\n",
       " '23:20': 17,\n",
       " '21:20': 18,\n",
       " '23:35': 19,\n",
       " '22:35': 20,\n",
       " '23:25': 21,\n",
       " '13:35': 23,\n",
       " '21:35': 24,\n",
       " '18:55': 25,\n",
       " '14:15': 26,\n",
       " '0.458333333': 27,\n",
       " '09:45': 28,\n",
       " '08:40': 29,\n",
       " '0.958333333': 30,\n",
       " '17:25': 31,\n",
       " 'nan': 32,\n",
       " '19:45': 33,\n",
       " '19:10': 34,\n",
       " '10:55': 35,\n",
       " '21:40': 36,\n",
       " '0.791666667': 37,\n",
       " '16:45': 38,\n",
       " '11:30': 39,\n",
       " '15:10': 40,\n",
       " '22:45': 41,\n",
       " '22:10': 42,\n",
       " '20:45': 43,\n",
       " '22:50': 44,\n",
       " '17:55': 45,\n",
       " '09:25': 46,\n",
       " '20:15': 47,\n",
       " '22:25': 48,\n",
       " '22:40': 49,\n",
       " '23:50': 50,\n",
       " '15:25': 51,\n",
       " '10:20': 52,\n",
       " '20:55': 53,\n",
       " '10:40': 54,\n",
       " '15:55': 55,\n",
       " '20:10': 56,\n",
       " '12:10': 57,\n",
       " '15:30': 58,\n",
       " '10:35': 59,\n",
       " '21:10': 60,\n",
       " '20:50': 61,\n",
       " '12:35': 62,\n",
       " '0.875': 63,\n",
       " '23:40': 64,\n",
       " '18:15': 65,\n",
       " '18:20': 66,\n",
       " '11:45': 67,\n",
       " '12:45': 68,\n",
       " '23:30': 69,\n",
       " '10:50': 70,\n",
       " '21:25': 71,\n",
       " '10:10': 72,\n",
       " '17:50': 73,\n",
       " '22:20': 74,\n",
       " '12:40': 75,\n",
       " '23:55': 76,\n",
       " '10:25': 77,\n",
       " '08:45': 78,\n",
       " '23:45': 79,\n",
       " '19:55': 80,\n",
       " '22:15': 81,\n",
       " '23:10': 82,\n",
       " '09:15': 83,\n",
       " '18:25': 84,\n",
       " '18:45': 85,\n",
       " '16:50': 86,\n",
       " '1': 87,\n",
       " '14:20': 88,\n",
       " '10:15': 89,\n",
       " '08:50': 90,\n",
       " '0.375': 91,\n",
       " '17:45': 92,\n",
       " '16:35': 93,\n",
       " '08:30': 94,\n",
       " '21:45': 95,\n",
       " '19:40': 96,\n",
       " '14:50': 97,\n",
       " '18:10': 98,\n",
       " '12:20': 99,\n",
       " '12:50': 100,\n",
       " '09:10': 101,\n",
       " '12:30': 102,\n",
       " '17:10': 103,\n",
       " '19:15': 104,\n",
       " '17:20': 105,\n",
       " '18:30': 106,\n",
       " '13:10': 107,\n",
       " '19:35': 108,\n",
       " '09:50': 109,\n",
       " '0.625': 110,\n",
       " '0.833333333': 111,\n",
       " '10:30': 112,\n",
       " '09:40': 113,\n",
       " '15:35': 114,\n",
       " '16:55': 115,\n",
       " '22:55': 116,\n",
       " '0.666666667': 117,\n",
       " '0.75': 118,\n",
       " '17:15': 119,\n",
       " '21:30': 120,\n",
       " '18:40': 121,\n",
       " '11:10': 122,\n",
       " '13:50': 123,\n",
       " '0.416666667': 124,\n",
       " '21:50': 125,\n",
       " '11:50': 126,\n",
       " '13:30': 127,\n",
       " '0.916666667': 128,\n",
       " '08:25': 129,\n",
       " '11:20': 130,\n",
       " '11:55': 131,\n",
       " '09:30': 132,\n",
       " '08:20': 133,\n",
       " '08:10': 134,\n",
       " '11:40': 135,\n",
       " '23:15': 136,\n",
       " '19:20': 137,\n",
       " '12:15': 138,\n",
       " '11:35': 139,\n",
       " '11:15': 140,\n",
       " '17:35': 141,\n",
       " '17:40': 142,\n",
       " '14:40': 143,\n",
       " '18:50': 144,\n",
       " '11:25': 145,\n",
       " '14:25': 146,\n",
       " '0.5': 147,\n",
       " '16:10': 148,\n",
       " '19:25': 149,\n",
       " '08:55': 150,\n",
       " '13:40': 151,\n",
       " '0.708333333': 152,\n",
       " '09:35': 153,\n",
       " '08:35': 154,\n",
       " '16:15': 155,\n",
       " '13:20': 156,\n",
       " '15:50': 157,\n",
       " '15:20': 158,\n",
       " '16:20': 159,\n",
       " '14:30': 160,\n",
       " '15:45': 161,\n",
       " '16:40': 162,\n",
       " '0.541666667': 163,\n",
       " '12:55': 164,\n",
       " '10:45': 165,\n",
       " '13:25': 166,\n",
       " '09:55': 167,\n",
       " '15:15': 168,\n",
       " '13:15': 169,\n",
       " '0.583333333': 170,\n",
       " '15:40': 171,\n",
       " '16:25': 172,\n",
       " '14:10': 173,\n",
       " '13:45': 174,\n",
       " '13:55': 175,\n",
       " '14:35': 176,\n",
       " '16:30': 177,\n",
       " '14:45': 178}"
      ]
     },
     "execution_count": 855,
     "metadata": {},
     "output_type": "execute_result"
    }
   ],
   "source": [
    "Time_Order_map"
   ]
  },
  {
   "cell_type": "code",
   "execution_count": 856,
   "metadata": {},
   "outputs": [
    {
     "data": {
      "text/plain": [
       "array([nan])"
      ]
     },
     "execution_count": 856,
     "metadata": {},
     "output_type": "execute_result"
    }
   ],
   "source": [
    "df['Time_Order_picked'].unique()"
   ]
  },
  {
   "cell_type": "code",
   "execution_count": 857,
   "metadata": {},
   "outputs": [],
   "source": [
    "Time_Order_picked_map={\"22:10\":1, \"15:05\":2, \"17:40\":3, \"09:30\":4, \"20:05\":5, \"20:35\":6, \"15:10\":7,\n",
    "                       \"20:40\":8, \"20:50\":9, \"21:30\":10, \"20:25\":11, \"22:45\":12, \"08:30\":13, \"19:45\":14,\n",
    "                       \"12:30\":15, \"18:50\":16, \"23:30\":17, \"21:35\":18, \"23:45\":19, \"22:50\":20, \"22:40\":21,\n",
    "                       \"23:35\":22, \"13:40\":23, \"21:45\":24, \"19:10\":25, \"14:25\":26, \"11:10\":27, \"09:55\":28,\n",
    "                       \"08:55\":29, \"23:10\":30, \"17:30\":31, \"18:35\":32, \"19:50\":33, \"19:25\":34,\"0.458333333\":35,\n",
    "                       \"19:15\":36, \"16:55\":37, \"11:40\":38, \"15:15\":39, \"22:55\":40,\"22:25\":41, \"20:55\":42,\"23:05\":43,\n",
    "                       \"0.75\":44, \"0.958333333\":45, \"09:40\":46, \"20:20\":47,\"22:35\":48,\"0.916666667\":49, \"23:55\":50,\n",
    "                       \"15:40\":51, \"10:30\":52, \"0.875\":53,\"10:50\":54, \"16:05\":55,\"20:15\":56, \"12:15\":57, \"15:45\":58,\n",
    "                       \"22:15\":59, \"10:45\":60,\"15:30\":61, \"24:05:00\":62, \"21:25\":63, \"12:45\":64, \"21:15\":65, \"18:20\":66,\n",
    "                       \"18:25\":67,\"11:50\":68, \"12:50\":69, \"10:55\":70, \"21:40\":71, \"10:20\":72, \"17:55\":73, \"23:50\":74,\n",
    "                       \"12:55\":75, \"24:10:00\":76, \"10:40\":77, \"0.375\":78, \"20:45\":79, \"0.833333333\":80,\n",
    "                       \"23:15\":81, \"22:20\":82, \"21:05\":83, \"0.708333333\":84, \"24:15:00\":85, \"21:20\":86,\n",
    "                       \"14:35\":87, \"10:25\":88, \"09:05\":89, \"16:50\":90, \"08:40\":91, \"23:40\":92, \"21:50\":93,\n",
    "                       \"19:55\":94, \"0.625\":95, \"10:35\":96, \"09:25\":97, \"17:20\":98, \"19:30\":99, \"17:25\":100,\n",
    "                       \"20:10\":101, \"1\":102, \"17:35\":103, \"0.791666667\":104, \"19:05\":105, \"13:20\":106, \"17:50\":107,\n",
    "                       \"18:05\":108, \"19:20\":109, \"10:05\":110, \"09:10\":111, \"21:55\":112, \"19:40\":113, \"18:10\":114,\n",
    "                       \"09:50\":115, \"15:50\":116, \"18:30\":117, \"18:15\":118, \"16:15\":119, \"11:15\":120, \"21:10\":121,\n",
    "                       \"22:30\":122, \"15:20\":123, \"18:40\":124, \"23:20\":125, \"11:25\":126, \"13:55\":127, \"18:45\":128,\n",
    "                       \"22:05\":129, \"11:55\":130, \"18:55\":131, \"09:45\":132, \"17:15\":133, \"12:05\":134, \"0.5\":135,\n",
    "                       \"19:35\":136, \"08:25\":137, \"11:05\":138, \"15:35\":139, \"12:40\":140, \"12:25\":141, \"08:20\":142,\n",
    "                       \"23:25\":143, \"16:10\":144, \"13:45\":145, \"08:15\":146, \"08:45\":147, \"20:30\":148,\"0.541666667\":149,\n",
    "                       \"11:20\":150, \"08:50\":151, \"14:45\":152, \"17:45\":153, \"0.416666667\":154,\"08:35\":155, \"12:10\":156,\n",
    "                       \"11:35\":157, \"14:30\":158, \"10:15\":159, \"17:05\":160, \"10:10\":161,\"09:35\":162, \"11:30\":163, \"16:25\":164,\n",
    "                       \"09:15\":165, \"13:35\":166, \"15:55\":167, \"13:10\":168,\"13:05\":169, \"11:45\":170, \"16:20\":171, \"16:30\":172, \n",
    "                       \"16:45\":173, \"09:20\":174, \"13:25\":175,\"14:15\":176, \"14:05\":177, \"16:35\":178, \"16:40\":179, \"13:30\":180,\n",
    "                       \"14:40\":181, \"12:20\":182,\"13:50\":183, \"17:10\":184, \"15:25\":185, \"14:20\":186, \"12:35\":187, \"0.583333333\":188,\n",
    "                       \"14:10\":189, \"14:55\":190, \"13:15\":191, \"14:50\":192, \"0.666666667\":193}"
   ]
  },
  {
   "cell_type": "code",
   "execution_count": 858,
   "metadata": {},
   "outputs": [
    {
     "data": {
      "text/plain": [
       "{'22:10': 1,\n",
       " '15:05': 2,\n",
       " '17:40': 3,\n",
       " '09:30': 4,\n",
       " '20:05': 5,\n",
       " '20:35': 6,\n",
       " '15:10': 7,\n",
       " '20:40': 8,\n",
       " '20:50': 9,\n",
       " '21:30': 10,\n",
       " '20:25': 11,\n",
       " '22:45': 12,\n",
       " '08:30': 13,\n",
       " '19:45': 14,\n",
       " '12:30': 15,\n",
       " '18:50': 16,\n",
       " '23:30': 17,\n",
       " '21:35': 18,\n",
       " '23:45': 19,\n",
       " '22:50': 20,\n",
       " '22:40': 21,\n",
       " '23:35': 22,\n",
       " '13:40': 23,\n",
       " '21:45': 24,\n",
       " '19:10': 25,\n",
       " '14:25': 26,\n",
       " '11:10': 27,\n",
       " '09:55': 28,\n",
       " '08:55': 29,\n",
       " '23:10': 30,\n",
       " '17:30': 31,\n",
       " '18:35': 32,\n",
       " '19:50': 33,\n",
       " '19:25': 34,\n",
       " '0.458333333': 35,\n",
       " '19:15': 36,\n",
       " '16:55': 37,\n",
       " '11:40': 38,\n",
       " '15:15': 39,\n",
       " '22:55': 40,\n",
       " '22:25': 41,\n",
       " '20:55': 42,\n",
       " '23:05': 43,\n",
       " '0.75': 44,\n",
       " '0.958333333': 45,\n",
       " '09:40': 46,\n",
       " '20:20': 47,\n",
       " '22:35': 48,\n",
       " '0.916666667': 49,\n",
       " '23:55': 50,\n",
       " '15:40': 51,\n",
       " '10:30': 52,\n",
       " '0.875': 53,\n",
       " '10:50': 54,\n",
       " '16:05': 55,\n",
       " '20:15': 56,\n",
       " '12:15': 57,\n",
       " '15:45': 58,\n",
       " '22:15': 59,\n",
       " '10:45': 60,\n",
       " '15:30': 61,\n",
       " '24:05:00': 62,\n",
       " '21:25': 63,\n",
       " '12:45': 64,\n",
       " '21:15': 65,\n",
       " '18:20': 66,\n",
       " '18:25': 67,\n",
       " '11:50': 68,\n",
       " '12:50': 69,\n",
       " '10:55': 70,\n",
       " '21:40': 71,\n",
       " '10:20': 72,\n",
       " '17:55': 73,\n",
       " '23:50': 74,\n",
       " '12:55': 75,\n",
       " '24:10:00': 76,\n",
       " '10:40': 77,\n",
       " '0.375': 78,\n",
       " '20:45': 79,\n",
       " '0.833333333': 80,\n",
       " '23:15': 81,\n",
       " '22:20': 82,\n",
       " '21:05': 83,\n",
       " '0.708333333': 84,\n",
       " '24:15:00': 85,\n",
       " '21:20': 86,\n",
       " '14:35': 87,\n",
       " '10:25': 88,\n",
       " '09:05': 89,\n",
       " '16:50': 90,\n",
       " '08:40': 91,\n",
       " '23:40': 92,\n",
       " '21:50': 93,\n",
       " '19:55': 94,\n",
       " '0.625': 95,\n",
       " '10:35': 96,\n",
       " '09:25': 97,\n",
       " '17:20': 98,\n",
       " '19:30': 99,\n",
       " '17:25': 100,\n",
       " '20:10': 101,\n",
       " '1': 102,\n",
       " '17:35': 103,\n",
       " '0.791666667': 104,\n",
       " '19:05': 105,\n",
       " '13:20': 106,\n",
       " '17:50': 107,\n",
       " '18:05': 108,\n",
       " '19:20': 109,\n",
       " '10:05': 110,\n",
       " '09:10': 111,\n",
       " '21:55': 112,\n",
       " '19:40': 113,\n",
       " '18:10': 114,\n",
       " '09:50': 115,\n",
       " '15:50': 116,\n",
       " '18:30': 117,\n",
       " '18:15': 118,\n",
       " '16:15': 119,\n",
       " '11:15': 120,\n",
       " '21:10': 121,\n",
       " '22:30': 122,\n",
       " '15:20': 123,\n",
       " '18:40': 124,\n",
       " '23:20': 125,\n",
       " '11:25': 126,\n",
       " '13:55': 127,\n",
       " '18:45': 128,\n",
       " '22:05': 129,\n",
       " '11:55': 130,\n",
       " '18:55': 131,\n",
       " '09:45': 132,\n",
       " '17:15': 133,\n",
       " '12:05': 134,\n",
       " '0.5': 135,\n",
       " '19:35': 136,\n",
       " '08:25': 137,\n",
       " '11:05': 138,\n",
       " '15:35': 139,\n",
       " '12:40': 140,\n",
       " '12:25': 141,\n",
       " '08:20': 142,\n",
       " '23:25': 143,\n",
       " '16:10': 144,\n",
       " '13:45': 145,\n",
       " '08:15': 146,\n",
       " '08:45': 147,\n",
       " '20:30': 148,\n",
       " '0.541666667': 149,\n",
       " '11:20': 150,\n",
       " '08:50': 151,\n",
       " '14:45': 152,\n",
       " '17:45': 153,\n",
       " '0.416666667': 154,\n",
       " '08:35': 155,\n",
       " '12:10': 156,\n",
       " '11:35': 157,\n",
       " '14:30': 158,\n",
       " '10:15': 159,\n",
       " '17:05': 160,\n",
       " '10:10': 161,\n",
       " '09:35': 162,\n",
       " '11:30': 163,\n",
       " '16:25': 164,\n",
       " '09:15': 165,\n",
       " '13:35': 166,\n",
       " '15:55': 167,\n",
       " '13:10': 168,\n",
       " '13:05': 169,\n",
       " '11:45': 170,\n",
       " '16:20': 171,\n",
       " '16:30': 172,\n",
       " '16:45': 173,\n",
       " '09:20': 174,\n",
       " '13:25': 175,\n",
       " '14:15': 176,\n",
       " '14:05': 177,\n",
       " '16:35': 178,\n",
       " '16:40': 179,\n",
       " '13:30': 180,\n",
       " '14:40': 181,\n",
       " '12:20': 182,\n",
       " '13:50': 183,\n",
       " '17:10': 184,\n",
       " '15:25': 185,\n",
       " '14:20': 186,\n",
       " '12:35': 187,\n",
       " '0.583333333': 188,\n",
       " '14:10': 189,\n",
       " '14:55': 190,\n",
       " '13:15': 191,\n",
       " '14:50': 192,\n",
       " '0.666666667': 193}"
      ]
     },
     "execution_count": 858,
     "metadata": {},
     "output_type": "execute_result"
    }
   ],
   "source": [
    "Time_Order_picked_map"
   ]
  },
  {
   "cell_type": "code",
   "execution_count": 859,
   "metadata": {},
   "outputs": [
    {
     "data": {
      "text/plain": [
       "array([nan])"
      ]
     },
     "execution_count": 859,
     "metadata": {},
     "output_type": "execute_result"
    }
   ],
   "source": [
    "df['Weather_conditions'].unique()"
   ]
  },
  {
   "cell_type": "code",
   "execution_count": 860,
   "metadata": {},
   "outputs": [],
   "source": [
    "weather_conditions_map={\"Fog\":1,\"Stormy\":2,\"Sandstorms\":3,\"Windy\":4,\"Cloudy\":5,\"Sunny\":6}"
   ]
  },
  {
   "cell_type": "code",
   "execution_count": 861,
   "metadata": {},
   "outputs": [
    {
     "data": {
      "text/plain": [
       "{'Fog': 1, 'Stormy': 2, 'Sandstorms': 3, 'Windy': 4, 'Cloudy': 5, 'Sunny': 6}"
      ]
     },
     "execution_count": 861,
     "metadata": {},
     "output_type": "execute_result"
    }
   ],
   "source": [
    "weather_conditions_map"
   ]
  },
  {
   "cell_type": "code",
   "execution_count": 862,
   "metadata": {},
   "outputs": [
    {
     "data": {
      "text/plain": [
       "array([nan])"
      ]
     },
     "execution_count": 862,
     "metadata": {},
     "output_type": "execute_result"
    }
   ],
   "source": [
    "df['Road_traffic_density'].unique()"
   ]
  },
  {
   "cell_type": "code",
   "execution_count": 863,
   "metadata": {},
   "outputs": [],
   "source": [
    "Road_traffic_density_map={\"Low\":1,\"Medium\":2,\"High\":3,\"Jam\":4}"
   ]
  },
  {
   "cell_type": "code",
   "execution_count": 864,
   "metadata": {},
   "outputs": [
    {
     "data": {
      "text/plain": [
       "{'Low': 1, 'Medium': 2, 'High': 3, 'Jam': 4}"
      ]
     },
     "execution_count": 864,
     "metadata": {},
     "output_type": "execute_result"
    }
   ],
   "source": [
    "Road_traffic_density_map\n"
   ]
  },
  {
   "cell_type": "code",
   "execution_count": 865,
   "metadata": {},
   "outputs": [
    {
     "data": {
      "text/plain": [
       "array([nan])"
      ]
     },
     "execution_count": 865,
     "metadata": {},
     "output_type": "execute_result"
    }
   ],
   "source": [
    "df['Type_of_order'].unique()"
   ]
  },
  {
   "cell_type": "code",
   "execution_count": 866,
   "metadata": {},
   "outputs": [],
   "source": [
    "Type_of_order_map={\"Snack\":1,\"Meal\":2,\"Drinks\":3,\"Buffet\":4}"
   ]
  },
  {
   "cell_type": "code",
   "execution_count": 867,
   "metadata": {},
   "outputs": [
    {
     "data": {
      "text/plain": [
       "{'Snack': 1, 'Meal': 2, 'Drinks': 3, 'Buffet': 4}"
      ]
     },
     "execution_count": 867,
     "metadata": {},
     "output_type": "execute_result"
    }
   ],
   "source": [
    "Type_of_order_map"
   ]
  },
  {
   "cell_type": "code",
   "execution_count": 868,
   "metadata": {},
   "outputs": [
    {
     "data": {
      "text/plain": [
       "array([nan])"
      ]
     },
     "execution_count": 868,
     "metadata": {},
     "output_type": "execute_result"
    }
   ],
   "source": [
    "df['Type_of_vehicle'].unique()"
   ]
  },
  {
   "cell_type": "code",
   "execution_count": 869,
   "metadata": {},
   "outputs": [],
   "source": [
    "Type_of_vehicle_map={\"motorcycle\":1,\"scooter\":2,\"electric_scooter\":3,\"bicycle\":4}"
   ]
  },
  {
   "cell_type": "code",
   "execution_count": 870,
   "metadata": {},
   "outputs": [
    {
     "data": {
      "text/plain": [
       "{'motorcycle': 1, 'scooter': 2, 'electric_scooter': 3, 'bicycle': 4}"
      ]
     },
     "execution_count": 870,
     "metadata": {},
     "output_type": "execute_result"
    }
   ],
   "source": [
    "Type_of_vehicle_map"
   ]
  },
  {
   "cell_type": "code",
   "execution_count": 871,
   "metadata": {},
   "outputs": [
    {
     "data": {
      "text/plain": [
       "array([nan])"
      ]
     },
     "execution_count": 871,
     "metadata": {},
     "output_type": "execute_result"
    }
   ],
   "source": [
    "df['Festival'].unique()"
   ]
  },
  {
   "cell_type": "code",
   "execution_count": 872,
   "metadata": {},
   "outputs": [],
   "source": [
    "Festival_map={\"Yes\":1,\"No\":2}"
   ]
  },
  {
   "cell_type": "code",
   "execution_count": 873,
   "metadata": {},
   "outputs": [
    {
     "data": {
      "text/plain": [
       "{'Yes': 1, 'No': 2}"
      ]
     },
     "execution_count": 873,
     "metadata": {},
     "output_type": "execute_result"
    }
   ],
   "source": [
    "Festival_map"
   ]
  },
  {
   "cell_type": "code",
   "execution_count": 874,
   "metadata": {},
   "outputs": [
    {
     "data": {
      "text/plain": [
       "array([nan])"
      ]
     },
     "execution_count": 874,
     "metadata": {},
     "output_type": "execute_result"
    }
   ],
   "source": [
    "df['City'].unique()"
   ]
  },
  {
   "cell_type": "code",
   "execution_count": 875,
   "metadata": {},
   "outputs": [],
   "source": [
    "City_map={\"Metropolitian\":1, \"Urban\":2, \"Semi-Urban\":3}"
   ]
  },
  {
   "cell_type": "code",
   "execution_count": 876,
   "metadata": {},
   "outputs": [
    {
     "data": {
      "text/plain": [
       "{'Metropolitian': 1, 'Urban': 2, 'Semi-Urban': 3}"
      ]
     },
     "execution_count": 876,
     "metadata": {},
     "output_type": "execute_result"
    }
   ],
   "source": [
    "City_map"
   ]
  },
  {
   "cell_type": "code",
   "execution_count": 877,
   "metadata": {},
   "outputs": [],
   "source": [
    "df['Order_Date']=df['Order_Date'].map(Order_Date_map)\n",
    "df['Time_Orderd']=df['Time_Orderd'].map(Time_Order_map)\n",
    "df['Time_Order_picked']=df['Time_Order_picked'].map(Time_Order_picked_map)\n",
    "df['Weather_conditions']=df['Weather_conditions'].map(weather_conditions_map)\n",
    "df['Road_traffic_density']=df['Road_traffic_density'].map(Road_traffic_density_map)\n",
    "df['Type_of_order']=df['Type_of_order'].map(Type_of_order_map)\n",
    "df['Type_of_vehicle']=df['Type_of_vehicle'].map(Type_of_order_map)\n",
    "df['Festival']=df['Festival'].map(Festival_map)\n",
    "df['City']=df['City'].map(City_map)\n"
   ]
  },
  {
   "cell_type": "code",
   "execution_count": 878,
   "metadata": {},
   "outputs": [
    {
     "data": {
      "text/html": [
       "<div>\n",
       "<style scoped>\n",
       "    .dataframe tbody tr th:only-of-type {\n",
       "        vertical-align: middle;\n",
       "    }\n",
       "\n",
       "    .dataframe tbody tr th {\n",
       "        vertical-align: top;\n",
       "    }\n",
       "\n",
       "    .dataframe thead th {\n",
       "        text-align: right;\n",
       "    }\n",
       "</style>\n",
       "<table border=\"1\" class=\"dataframe\">\n",
       "  <thead>\n",
       "    <tr style=\"text-align: right;\">\n",
       "      <th></th>\n",
       "      <th>Delivery_person_Age</th>\n",
       "      <th>Delivery_person_Ratings</th>\n",
       "      <th>Restaurant_latitude</th>\n",
       "      <th>Restaurant_longitude</th>\n",
       "      <th>Delivery_location_latitude</th>\n",
       "      <th>Delivery_location_longitude</th>\n",
       "      <th>Order_Date</th>\n",
       "      <th>Time_Orderd</th>\n",
       "      <th>Time_Order_picked</th>\n",
       "      <th>Weather_conditions</th>\n",
       "      <th>Road_traffic_density</th>\n",
       "      <th>Vehicle_condition</th>\n",
       "      <th>Type_of_order</th>\n",
       "      <th>Type_of_vehicle</th>\n",
       "      <th>multiple_deliveries</th>\n",
       "      <th>Festival</th>\n",
       "      <th>City</th>\n",
       "      <th>Time_taken (min)</th>\n",
       "    </tr>\n",
       "  </thead>\n",
       "  <tbody>\n",
       "    <tr>\n",
       "      <th>0</th>\n",
       "      <td>36.0</td>\n",
       "      <td>4.2</td>\n",
       "      <td>30.327968</td>\n",
       "      <td>78.046106</td>\n",
       "      <td>30.397968</td>\n",
       "      <td>78.116106</td>\n",
       "      <td>NaN</td>\n",
       "      <td>NaN</td>\n",
       "      <td>NaN</td>\n",
       "      <td>NaN</td>\n",
       "      <td>NaN</td>\n",
       "      <td>2</td>\n",
       "      <td>NaN</td>\n",
       "      <td>NaN</td>\n",
       "      <td>3.0</td>\n",
       "      <td>NaN</td>\n",
       "      <td>NaN</td>\n",
       "      <td>46</td>\n",
       "    </tr>\n",
       "    <tr>\n",
       "      <th>1</th>\n",
       "      <td>21.0</td>\n",
       "      <td>4.7</td>\n",
       "      <td>10.003064</td>\n",
       "      <td>76.307589</td>\n",
       "      <td>10.043064</td>\n",
       "      <td>76.347589</td>\n",
       "      <td>NaN</td>\n",
       "      <td>NaN</td>\n",
       "      <td>NaN</td>\n",
       "      <td>NaN</td>\n",
       "      <td>NaN</td>\n",
       "      <td>1</td>\n",
       "      <td>NaN</td>\n",
       "      <td>NaN</td>\n",
       "      <td>1.0</td>\n",
       "      <td>NaN</td>\n",
       "      <td>NaN</td>\n",
       "      <td>23</td>\n",
       "    </tr>\n",
       "    <tr>\n",
       "      <th>2</th>\n",
       "      <td>23.0</td>\n",
       "      <td>4.7</td>\n",
       "      <td>18.562450</td>\n",
       "      <td>73.916619</td>\n",
       "      <td>18.652450</td>\n",
       "      <td>74.006619</td>\n",
       "      <td>NaN</td>\n",
       "      <td>NaN</td>\n",
       "      <td>NaN</td>\n",
       "      <td>NaN</td>\n",
       "      <td>NaN</td>\n",
       "      <td>1</td>\n",
       "      <td>NaN</td>\n",
       "      <td>NaN</td>\n",
       "      <td>1.0</td>\n",
       "      <td>NaN</td>\n",
       "      <td>NaN</td>\n",
       "      <td>21</td>\n",
       "    </tr>\n",
       "    <tr>\n",
       "      <th>3</th>\n",
       "      <td>34.0</td>\n",
       "      <td>4.3</td>\n",
       "      <td>30.899584</td>\n",
       "      <td>75.809346</td>\n",
       "      <td>30.919584</td>\n",
       "      <td>75.829346</td>\n",
       "      <td>NaN</td>\n",
       "      <td>NaN</td>\n",
       "      <td>NaN</td>\n",
       "      <td>NaN</td>\n",
       "      <td>NaN</td>\n",
       "      <td>0</td>\n",
       "      <td>NaN</td>\n",
       "      <td>NaN</td>\n",
       "      <td>0.0</td>\n",
       "      <td>NaN</td>\n",
       "      <td>NaN</td>\n",
       "      <td>20</td>\n",
       "    </tr>\n",
       "    <tr>\n",
       "      <th>4</th>\n",
       "      <td>24.0</td>\n",
       "      <td>4.7</td>\n",
       "      <td>26.463504</td>\n",
       "      <td>80.372929</td>\n",
       "      <td>26.593504</td>\n",
       "      <td>80.502929</td>\n",
       "      <td>NaN</td>\n",
       "      <td>NaN</td>\n",
       "      <td>NaN</td>\n",
       "      <td>NaN</td>\n",
       "      <td>NaN</td>\n",
       "      <td>1</td>\n",
       "      <td>NaN</td>\n",
       "      <td>NaN</td>\n",
       "      <td>1.0</td>\n",
       "      <td>NaN</td>\n",
       "      <td>NaN</td>\n",
       "      <td>41</td>\n",
       "    </tr>\n",
       "  </tbody>\n",
       "</table>\n",
       "</div>"
      ],
      "text/plain": [
       "   Delivery_person_Age  Delivery_person_Ratings  Restaurant_latitude   \n",
       "0                 36.0                      4.2            30.327968  \\\n",
       "1                 21.0                      4.7            10.003064   \n",
       "2                 23.0                      4.7            18.562450   \n",
       "3                 34.0                      4.3            30.899584   \n",
       "4                 24.0                      4.7            26.463504   \n",
       "\n",
       "   Restaurant_longitude  Delivery_location_latitude   \n",
       "0             78.046106                   30.397968  \\\n",
       "1             76.307589                   10.043064   \n",
       "2             73.916619                   18.652450   \n",
       "3             75.809346                   30.919584   \n",
       "4             80.372929                   26.593504   \n",
       "\n",
       "   Delivery_location_longitude  Order_Date  Time_Orderd  Time_Order_picked   \n",
       "0                    78.116106         NaN          NaN                NaN  \\\n",
       "1                    76.347589         NaN          NaN                NaN   \n",
       "2                    74.006619         NaN          NaN                NaN   \n",
       "3                    75.829346         NaN          NaN                NaN   \n",
       "4                    80.502929         NaN          NaN                NaN   \n",
       "\n",
       "   Weather_conditions  Road_traffic_density  Vehicle_condition  Type_of_order   \n",
       "0                 NaN                   NaN                  2            NaN  \\\n",
       "1                 NaN                   NaN                  1            NaN   \n",
       "2                 NaN                   NaN                  1            NaN   \n",
       "3                 NaN                   NaN                  0            NaN   \n",
       "4                 NaN                   NaN                  1            NaN   \n",
       "\n",
       "   Type_of_vehicle  multiple_deliveries  Festival  City  Time_taken (min)  \n",
       "0              NaN                  3.0       NaN   NaN                46  \n",
       "1              NaN                  1.0       NaN   NaN                23  \n",
       "2              NaN                  1.0       NaN   NaN                21  \n",
       "3              NaN                  0.0       NaN   NaN                20  \n",
       "4              NaN                  1.0       NaN   NaN                41  "
      ]
     },
     "execution_count": 878,
     "metadata": {},
     "output_type": "execute_result"
    }
   ],
   "source": [
    "df.head()"
   ]
  }
 ],
 "metadata": {
  "kernelspec": {
   "display_name": "Python 3",
   "language": "python",
   "name": "python3"
  },
  "language_info": {
   "codemirror_mode": {
    "name": "ipython",
    "version": 3
   },
   "file_extension": ".py",
   "mimetype": "text/x-python",
   "name": "python",
   "nbconvert_exporter": "python",
   "pygments_lexer": "ipython3",
   "version": "3.8.0"
  },
  "orig_nbformat": 4
 },
 "nbformat": 4,
 "nbformat_minor": 2
}
